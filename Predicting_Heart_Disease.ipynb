{
 "cells": [
  {
   "cell_type": "markdown",
   "id": "18baa1e7-6ab3-4ed2-9d9c-90a0c2178afd",
   "metadata": {},
   "source": [
    "# Predicting Heart Disease"
   ]
  },
  {
   "cell_type": "markdown",
   "id": "83989fc2-e326-43d2-a38d-18dede772286",
   "metadata": {},
   "source": [
    "## Summary"
   ]
  },
  {
   "cell_type": "markdown",
   "id": "ec6f77f2-ea27-4b1d-a82d-afef10e27f89",
   "metadata": {},
   "source": [
    "### Introduction"
   ]
  },
  {
   "cell_type": "markdown",
   "id": "254c1193-4fab-4e57-9ab1-f54e611032d0",
   "metadata": {},
   "source": [
    "Heart disease is an umbrella term that refers to several conditions that affect the health of one's heart. Common heart diseases include disease of the blood vessel, arrhythmia (irregular beating of the heart), disease of the heart valve and muscle, infection of the heart, and heart defects from birth (“Heart Disease.”). The symptoms of one’s  heart disease is very dependent on the type of disease they have, however many forms can be prevented with healthy lifestyle choices. Most heart diseases (with the exception of serious defects at birth) are only diagnosed after a heart attack, heart failure, or stroke (“Heart Disease.”).  Heart attacks, heart failure, and strokes are very traumatic events to go through and are oftentimes deadly (“Heart Disease and Stroke.”). Therefore it is very important that we are able to predict if an individual is at an increased risk of heart disease and try to get them preventable care. In this project we want to determine if we can predict if someone is at risk of a heart disease based on the following variables."
   ]
  },
  {
   "cell_type": "markdown",
   "id": "7ead25b3-6c6b-4e8d-bbef-7acdd1d3ee7b",
   "metadata": {},
   "source": [
    "We used data from UCI Machine Learning (https://archive-beta.ics.uci.edu/ml/datasets/heart+disease). The Cleveland Heart Disease dataset consists of 13 explanatory variables and 1 target class. The variables, variable type and a brief description of each variable are listed below."
   ]
  },
  {
   "cell_type": "markdown",
   "id": "300bb04b-6529-4227-9cc6-8715bd10bd71",
   "metadata": {},
   "source": [
    "| Variable | Variable Type | Description |\n",
    "| :-: | :-: | :-: |\n",
    "| Age | Quantitative | Age of patient in years |\n",
    "| Sex | Categorical | Sex of patient where 0 = female and 1 = male |\n",
    "| Chest Pain | Categorical | Type of chest pain the patient has where 1 = typical angina, 2 = atypical angina, 3 = non-anginal, 4 = asymptomatic |\n",
    "| Resting Blood Pressure | Quantitative | Resting blood pressure of the patient measured at admission to the hospital in mm Hg |\n",
    "| Serum Cholesterol | Quantitative | Serum Cholesterol is the total amount of cholesterol a patient has in their blood. It is measured in mg/dl |\n",
    "| Fasting Blood Sugar | Categorical | The blood sugar level of the patient after fasting where 0 if blood sugar is less than 120mg/dl and 1 otherwise |\n",
    "| Resting ECG | Categorical | The results of the patients resting electrocardiographic where 0 = normal results, 1 = S-T wave abnormality, 2 = left ventricular hypertrophy |\n",
    "| Max Heart Rate | Quantitative | The maximum heart rate that the patient had in bpm |\n",
    "| Exercise Induced Angina | Categorical | If the patient has exercised induced angina (chest pain caused by reduced blood flow) where 0 = no and 1 =yes |\n",
    "| Oldpeak | Quantitative | The ST depression (ECG measurement of the heart) a patient has induced by exercise relative to rest in mm|\n",
    "| Slope | Categorical | The slope of peak exercise ST segment of patient where 1 = upsloping, 2 = flat, 3 = downsloping |\n",
    "| Number of Major Blood Vessels | Quantitative | The number of major blood vessels |\n",
    "| Thalassemia | Categorical | Occurrence of thalassemia in the patient (blood disorder that causes patient to have reduced amounts of hemoglobin) where 3 = normal, 6 = fixed defect, and 7 = reversible defect |\n",
    "| Diagnosis | Categorical | Presence of heart disease in the patient from 0 to 4 where 0 indicates no presence of heart disease. This is the target column |\n"
   ]
  },
  {
   "cell_type": "markdown",
   "id": "0930bc23-5f65-4f25-8554-957197046d76",
   "metadata": {},
   "source": [
    "# Methods & Results"
   ]
  },
  {
   "cell_type": "markdown",
   "id": "62c8cead-8084-420e-9fa7-9282f6a9dbc4",
   "metadata": {},
   "source": [
    "We started by loading the heart disease data set and adding a column headers. The database has 14 features. For the purpose of this analysis, we have focused on the Diagnosis feature. Based on the data description, any value over 0 has a heart disease and 0 indicates no presence of heart disease. \n",
    "\n",
    "We grouped the data by its diagnosis. Then we applied data cleaning. We checked for the data type and for any mistakes about the characters. We further dealt with the NA values. "
   ]
  },
  {
   "cell_type": "markdown",
   "id": "c8e62114-653f-40e8-92ba-db8fb595b5bf",
   "metadata": {},
   "source": [
    "## Packages"
   ]
  },
  {
   "cell_type": "code",
   "execution_count": 1,
   "id": "8efe0078-3066-43c6-9ed9-d8cc96298da3",
   "metadata": {},
   "outputs": [
    {
     "name": "stderr",
     "output_type": "stream",
     "text": [
      "── \u001b[1mAttaching packages\u001b[22m ─────────────────────────────────────── tidyverse 1.3.1 ──\n",
      "\n",
      "\u001b[32m✔\u001b[39m \u001b[34mggplot2\u001b[39m 3.3.5     \u001b[32m✔\u001b[39m \u001b[34mpurrr  \u001b[39m 0.3.4\n",
      "\u001b[32m✔\u001b[39m \u001b[34mtibble \u001b[39m 3.1.6     \u001b[32m✔\u001b[39m \u001b[34mdplyr  \u001b[39m 1.0.7\n",
      "\u001b[32m✔\u001b[39m \u001b[34mtidyr  \u001b[39m 1.1.4     \u001b[32m✔\u001b[39m \u001b[34mstringr\u001b[39m 1.4.0\n",
      "\u001b[32m✔\u001b[39m \u001b[34mreadr  \u001b[39m 2.1.1     \u001b[32m✔\u001b[39m \u001b[34mforcats\u001b[39m 0.5.1\n",
      "\n",
      "── \u001b[1mConflicts\u001b[22m ────────────────────────────────────────── tidyverse_conflicts() ──\n",
      "\u001b[31m✖\u001b[39m \u001b[34mdplyr\u001b[39m::\u001b[32mfilter()\u001b[39m masks \u001b[34mstats\u001b[39m::filter()\n",
      "\u001b[31m✖\u001b[39m \u001b[34mdplyr\u001b[39m::\u001b[32mlag()\u001b[39m    masks \u001b[34mstats\u001b[39m::lag()\n",
      "\n",
      "Registered S3 method overwritten by 'tune':\n",
      "  method                   from   \n",
      "  required_pkgs.model_spec parsnip\n",
      "\n",
      "── \u001b[1mAttaching packages\u001b[22m ────────────────────────────────────── tidymodels 0.1.4 ──\n",
      "\n",
      "\u001b[32m✔\u001b[39m \u001b[34mbroom       \u001b[39m 0.7.11     \u001b[32m✔\u001b[39m \u001b[34mrsample     \u001b[39m 0.1.1 \n",
      "\u001b[32m✔\u001b[39m \u001b[34mdials       \u001b[39m 0.0.10     \u001b[32m✔\u001b[39m \u001b[34mtune        \u001b[39m 0.1.6 \n",
      "\u001b[32m✔\u001b[39m \u001b[34minfer       \u001b[39m 1.0.0      \u001b[32m✔\u001b[39m \u001b[34mworkflows   \u001b[39m 0.2.4 \n",
      "\u001b[32m✔\u001b[39m \u001b[34mmodeldata   \u001b[39m 0.1.1      \u001b[32m✔\u001b[39m \u001b[34mworkflowsets\u001b[39m 0.1.0 \n",
      "\u001b[32m✔\u001b[39m \u001b[34mparsnip     \u001b[39m 0.1.7      \u001b[32m✔\u001b[39m \u001b[34myardstick   \u001b[39m 0.0.9 \n",
      "\u001b[32m✔\u001b[39m \u001b[34mrecipes     \u001b[39m 0.1.17     \n",
      "\n",
      "── \u001b[1mConflicts\u001b[22m ───────────────────────────────────────── tidymodels_conflicts() ──\n",
      "\u001b[31m✖\u001b[39m \u001b[34mscales\u001b[39m::\u001b[32mdiscard()\u001b[39m masks \u001b[34mpurrr\u001b[39m::discard()\n",
      "\u001b[31m✖\u001b[39m \u001b[34mdplyr\u001b[39m::\u001b[32mfilter()\u001b[39m   masks \u001b[34mstats\u001b[39m::filter()\n",
      "\u001b[31m✖\u001b[39m \u001b[34mrecipes\u001b[39m::\u001b[32mfixed()\u001b[39m  masks \u001b[34mstringr\u001b[39m::fixed()\n",
      "\u001b[31m✖\u001b[39m \u001b[34mdplyr\u001b[39m::\u001b[32mlag()\u001b[39m      masks \u001b[34mstats\u001b[39m::lag()\n",
      "\u001b[31m✖\u001b[39m \u001b[34myardstick\u001b[39m::\u001b[32mspec()\u001b[39m masks \u001b[34mreadr\u001b[39m::spec()\n",
      "\u001b[31m✖\u001b[39m \u001b[34mrecipes\u001b[39m::\u001b[32mstep()\u001b[39m   masks \u001b[34mstats\u001b[39m::step()\n",
      "\u001b[34m•\u001b[39m Use \u001b[32mtidymodels_prefer()\u001b[39m to resolve common conflicts.\n",
      "\n"
     ]
    }
   ],
   "source": [
    "library(tidyverse)\n",
    "library(tidymodels)"
   ]
  },
  {
   "cell_type": "code",
   "execution_count": 2,
   "id": "6d045eca-f685-48fa-97bf-50af75d14906",
   "metadata": {},
   "outputs": [],
   "source": [
    "heart_disease <- read.csv(\"data/processed-cleveland.csv\", header = FALSE)"
   ]
  },
  {
   "cell_type": "markdown",
   "id": "416c8124-8706-4859-8cad-61d3f2adc9c4",
   "metadata": {},
   "source": [
    "Before any data analysis can be done, the data needs to be cleaned. The downloaded data does not have any column names so first we need to add all the variables to their respective column."
   ]
  },
  {
   "cell_type": "code",
   "execution_count": 3,
   "id": "d66cfffb-8739-45e0-8f43-3f089f5224f4",
   "metadata": {},
   "outputs": [],
   "source": [
    "colnames(heart_disease) <- c(\"age\",\n",
    "                             \"sex\",\n",
    "                             \"chest_pain\",\n",
    "                             \"resting_blood_pressure\",\n",
    "                             \"serum_cholesterol\",\n",
    "                             \"fasting_blood_sugar\",\n",
    "                             \"resting_ecg\",\n",
    "                             \"max_heart_rate\",\n",
    "                             \"exercise_induced_angina\",\n",
    "                             \"oldpeak\",\n",
    "                             \"slope\",\n",
    "                             \"num_of_major_vessels\",\n",
    "                             \"thalassemia\",\n",
    "                             \"diagnosis\")"
   ]
  },
  {
   "cell_type": "code",
   "execution_count": 4,
   "id": "12fe5a13-9ab9-4eb0-90f1-867bfff29fb8",
   "metadata": {},
   "outputs": [
    {
     "data": {
      "text/html": [
       "<table class=\"dataframe\">\n",
       "<caption>A data.frame: 10 × 14</caption>\n",
       "<thead>\n",
       "\t<tr><th></th><th scope=col>age</th><th scope=col>sex</th><th scope=col>chest_pain</th><th scope=col>resting_blood_pressure</th><th scope=col>serum_cholesterol</th><th scope=col>fasting_blood_sugar</th><th scope=col>resting_ecg</th><th scope=col>max_heart_rate</th><th scope=col>exercise_induced_angina</th><th scope=col>oldpeak</th><th scope=col>slope</th><th scope=col>num_of_major_vessels</th><th scope=col>thalassemia</th><th scope=col>diagnosis</th></tr>\n",
       "\t<tr><th></th><th scope=col>&lt;dbl&gt;</th><th scope=col>&lt;dbl&gt;</th><th scope=col>&lt;dbl&gt;</th><th scope=col>&lt;dbl&gt;</th><th scope=col>&lt;dbl&gt;</th><th scope=col>&lt;dbl&gt;</th><th scope=col>&lt;dbl&gt;</th><th scope=col>&lt;dbl&gt;</th><th scope=col>&lt;dbl&gt;</th><th scope=col>&lt;dbl&gt;</th><th scope=col>&lt;dbl&gt;</th><th scope=col>&lt;chr&gt;</th><th scope=col>&lt;chr&gt;</th><th scope=col>&lt;int&gt;</th></tr>\n",
       "</thead>\n",
       "<tbody>\n",
       "\t<tr><th scope=row>1</th><td>63</td><td>1</td><td>1</td><td>145</td><td>233</td><td>1</td><td>2</td><td>150</td><td>0</td><td>2.3</td><td>3</td><td>0.0</td><td>6.0</td><td>0</td></tr>\n",
       "\t<tr><th scope=row>2</th><td>67</td><td>1</td><td>4</td><td>160</td><td>286</td><td>0</td><td>2</td><td>108</td><td>1</td><td>1.5</td><td>2</td><td>3.0</td><td>3.0</td><td>2</td></tr>\n",
       "\t<tr><th scope=row>3</th><td>67</td><td>1</td><td>4</td><td>120</td><td>229</td><td>0</td><td>2</td><td>129</td><td>1</td><td>2.6</td><td>2</td><td>2.0</td><td>7.0</td><td>1</td></tr>\n",
       "\t<tr><th scope=row>4</th><td>37</td><td>1</td><td>3</td><td>130</td><td>250</td><td>0</td><td>0</td><td>187</td><td>0</td><td>3.5</td><td>3</td><td>0.0</td><td>3.0</td><td>0</td></tr>\n",
       "\t<tr><th scope=row>5</th><td>41</td><td>0</td><td>2</td><td>130</td><td>204</td><td>0</td><td>2</td><td>172</td><td>0</td><td>1.4</td><td>1</td><td>0.0</td><td>3.0</td><td>0</td></tr>\n",
       "\t<tr><th scope=row>6</th><td>56</td><td>1</td><td>2</td><td>120</td><td>236</td><td>0</td><td>0</td><td>178</td><td>0</td><td>0.8</td><td>1</td><td>0.0</td><td>3.0</td><td>0</td></tr>\n",
       "\t<tr><th scope=row>7</th><td>62</td><td>0</td><td>4</td><td>140</td><td>268</td><td>0</td><td>2</td><td>160</td><td>0</td><td>3.6</td><td>3</td><td>2.0</td><td>3.0</td><td>3</td></tr>\n",
       "\t<tr><th scope=row>8</th><td>57</td><td>0</td><td>4</td><td>120</td><td>354</td><td>0</td><td>0</td><td>163</td><td>1</td><td>0.6</td><td>1</td><td>0.0</td><td>3.0</td><td>0</td></tr>\n",
       "\t<tr><th scope=row>9</th><td>63</td><td>1</td><td>4</td><td>130</td><td>254</td><td>0</td><td>2</td><td>147</td><td>0</td><td>1.4</td><td>2</td><td>1.0</td><td>7.0</td><td>2</td></tr>\n",
       "\t<tr><th scope=row>10</th><td>53</td><td>1</td><td>4</td><td>140</td><td>203</td><td>1</td><td>2</td><td>155</td><td>1</td><td>3.1</td><td>3</td><td>0.0</td><td>7.0</td><td>1</td></tr>\n",
       "</tbody>\n",
       "</table>\n"
      ],
      "text/latex": [
       "A data.frame: 10 × 14\n",
       "\\begin{tabular}{r|llllllllllllll}\n",
       "  & age & sex & chest\\_pain & resting\\_blood\\_pressure & serum\\_cholesterol & fasting\\_blood\\_sugar & resting\\_ecg & max\\_heart\\_rate & exercise\\_induced\\_angina & oldpeak & slope & num\\_of\\_major\\_vessels & thalassemia & diagnosis\\\\\n",
       "  & <dbl> & <dbl> & <dbl> & <dbl> & <dbl> & <dbl> & <dbl> & <dbl> & <dbl> & <dbl> & <dbl> & <chr> & <chr> & <int>\\\\\n",
       "\\hline\n",
       "\t1 & 63 & 1 & 1 & 145 & 233 & 1 & 2 & 150 & 0 & 2.3 & 3 & 0.0 & 6.0 & 0\\\\\n",
       "\t2 & 67 & 1 & 4 & 160 & 286 & 0 & 2 & 108 & 1 & 1.5 & 2 & 3.0 & 3.0 & 2\\\\\n",
       "\t3 & 67 & 1 & 4 & 120 & 229 & 0 & 2 & 129 & 1 & 2.6 & 2 & 2.0 & 7.0 & 1\\\\\n",
       "\t4 & 37 & 1 & 3 & 130 & 250 & 0 & 0 & 187 & 0 & 3.5 & 3 & 0.0 & 3.0 & 0\\\\\n",
       "\t5 & 41 & 0 & 2 & 130 & 204 & 0 & 2 & 172 & 0 & 1.4 & 1 & 0.0 & 3.0 & 0\\\\\n",
       "\t6 & 56 & 1 & 2 & 120 & 236 & 0 & 0 & 178 & 0 & 0.8 & 1 & 0.0 & 3.0 & 0\\\\\n",
       "\t7 & 62 & 0 & 4 & 140 & 268 & 0 & 2 & 160 & 0 & 3.6 & 3 & 2.0 & 3.0 & 3\\\\\n",
       "\t8 & 57 & 0 & 4 & 120 & 354 & 0 & 0 & 163 & 1 & 0.6 & 1 & 0.0 & 3.0 & 0\\\\\n",
       "\t9 & 63 & 1 & 4 & 130 & 254 & 0 & 2 & 147 & 0 & 1.4 & 2 & 1.0 & 7.0 & 2\\\\\n",
       "\t10 & 53 & 1 & 4 & 140 & 203 & 1 & 2 & 155 & 1 & 3.1 & 3 & 0.0 & 7.0 & 1\\\\\n",
       "\\end{tabular}\n"
      ],
      "text/markdown": [
       "\n",
       "A data.frame: 10 × 14\n",
       "\n",
       "| <!--/--> | age &lt;dbl&gt; | sex &lt;dbl&gt; | chest_pain &lt;dbl&gt; | resting_blood_pressure &lt;dbl&gt; | serum_cholesterol &lt;dbl&gt; | fasting_blood_sugar &lt;dbl&gt; | resting_ecg &lt;dbl&gt; | max_heart_rate &lt;dbl&gt; | exercise_induced_angina &lt;dbl&gt; | oldpeak &lt;dbl&gt; | slope &lt;dbl&gt; | num_of_major_vessels &lt;chr&gt; | thalassemia &lt;chr&gt; | diagnosis &lt;int&gt; |\n",
       "|---|---|---|---|---|---|---|---|---|---|---|---|---|---|---|\n",
       "| 1 | 63 | 1 | 1 | 145 | 233 | 1 | 2 | 150 | 0 | 2.3 | 3 | 0.0 | 6.0 | 0 |\n",
       "| 2 | 67 | 1 | 4 | 160 | 286 | 0 | 2 | 108 | 1 | 1.5 | 2 | 3.0 | 3.0 | 2 |\n",
       "| 3 | 67 | 1 | 4 | 120 | 229 | 0 | 2 | 129 | 1 | 2.6 | 2 | 2.0 | 7.0 | 1 |\n",
       "| 4 | 37 | 1 | 3 | 130 | 250 | 0 | 0 | 187 | 0 | 3.5 | 3 | 0.0 | 3.0 | 0 |\n",
       "| 5 | 41 | 0 | 2 | 130 | 204 | 0 | 2 | 172 | 0 | 1.4 | 1 | 0.0 | 3.0 | 0 |\n",
       "| 6 | 56 | 1 | 2 | 120 | 236 | 0 | 0 | 178 | 0 | 0.8 | 1 | 0.0 | 3.0 | 0 |\n",
       "| 7 | 62 | 0 | 4 | 140 | 268 | 0 | 2 | 160 | 0 | 3.6 | 3 | 2.0 | 3.0 | 3 |\n",
       "| 8 | 57 | 0 | 4 | 120 | 354 | 0 | 0 | 163 | 1 | 0.6 | 1 | 0.0 | 3.0 | 0 |\n",
       "| 9 | 63 | 1 | 4 | 130 | 254 | 0 | 2 | 147 | 0 | 1.4 | 2 | 1.0 | 7.0 | 2 |\n",
       "| 10 | 53 | 1 | 4 | 140 | 203 | 1 | 2 | 155 | 1 | 3.1 | 3 | 0.0 | 7.0 | 1 |\n",
       "\n"
      ],
      "text/plain": [
       "   age sex chest_pain resting_blood_pressure serum_cholesterol\n",
       "1  63  1   1          145                    233              \n",
       "2  67  1   4          160                    286              \n",
       "3  67  1   4          120                    229              \n",
       "4  37  1   3          130                    250              \n",
       "5  41  0   2          130                    204              \n",
       "6  56  1   2          120                    236              \n",
       "7  62  0   4          140                    268              \n",
       "8  57  0   4          120                    354              \n",
       "9  63  1   4          130                    254              \n",
       "10 53  1   4          140                    203              \n",
       "   fasting_blood_sugar resting_ecg max_heart_rate exercise_induced_angina\n",
       "1  1                   2           150            0                      \n",
       "2  0                   2           108            1                      \n",
       "3  0                   2           129            1                      \n",
       "4  0                   0           187            0                      \n",
       "5  0                   2           172            0                      \n",
       "6  0                   0           178            0                      \n",
       "7  0                   2           160            0                      \n",
       "8  0                   0           163            1                      \n",
       "9  0                   2           147            0                      \n",
       "10 1                   2           155            1                      \n",
       "   oldpeak slope num_of_major_vessels thalassemia diagnosis\n",
       "1  2.3     3     0.0                  6.0         0        \n",
       "2  1.5     2     3.0                  3.0         2        \n",
       "3  2.6     2     2.0                  7.0         1        \n",
       "4  3.5     3     0.0                  3.0         0        \n",
       "5  1.4     1     0.0                  3.0         0        \n",
       "6  0.8     1     0.0                  3.0         0        \n",
       "7  3.6     3     2.0                  3.0         3        \n",
       "8  0.6     1     0.0                  3.0         0        \n",
       "9  1.4     2     1.0                  7.0         2        \n",
       "10 3.1     3     0.0                  7.0         1        "
      ]
     },
     "metadata": {},
     "output_type": "display_data"
    }
   ],
   "source": [
    "head(heart_disease, 10)"
   ]
  },
  {
   "cell_type": "markdown",
   "id": "bbd8d68d-3e10-4db5-98f1-9a1346e358c5",
   "metadata": {},
   "source": [
    "The next step in cleaning up the data is to check for NAs. It is important that we remove these before any data analysis so that the functions we use will run on the data properly. Using the `colMeans` function we get the percentage of NAs in each column."
   ]
  },
  {
   "cell_type": "code",
   "execution_count": 5,
   "id": "bdae0b52-6674-4c57-9e78-1209b8a198b4",
   "metadata": {},
   "outputs": [
    {
     "data": {
      "text/html": [
       "<style>\n",
       ".dl-inline {width: auto; margin:0; padding: 0}\n",
       ".dl-inline>dt, .dl-inline>dd {float: none; width: auto; display: inline-block}\n",
       ".dl-inline>dt::after {content: \":\\0020\"; padding-right: .5ex}\n",
       ".dl-inline>dt:not(:first-of-type) {padding-left: .5ex}\n",
       "</style><dl class=dl-inline><dt>age</dt><dd>0</dd><dt>sex</dt><dd>0</dd><dt>chest_pain</dt><dd>0</dd><dt>resting_blood_pressure</dt><dd>0</dd><dt>serum_cholesterol</dt><dd>0</dd><dt>fasting_blood_sugar</dt><dd>0</dd><dt>resting_ecg</dt><dd>0</dd><dt>max_heart_rate</dt><dd>0</dd><dt>exercise_induced_angina</dt><dd>0</dd><dt>oldpeak</dt><dd>0</dd><dt>slope</dt><dd>0</dd><dt>num_of_major_vessels</dt><dd>0</dd><dt>thalassemia</dt><dd>0</dd><dt>diagnosis</dt><dd>0</dd></dl>\n"
      ],
      "text/latex": [
       "\\begin{description*}\n",
       "\\item[age] 0\n",
       "\\item[sex] 0\n",
       "\\item[chest\\textbackslash{}\\_pain] 0\n",
       "\\item[resting\\textbackslash{}\\_blood\\textbackslash{}\\_pressure] 0\n",
       "\\item[serum\\textbackslash{}\\_cholesterol] 0\n",
       "\\item[fasting\\textbackslash{}\\_blood\\textbackslash{}\\_sugar] 0\n",
       "\\item[resting\\textbackslash{}\\_ecg] 0\n",
       "\\item[max\\textbackslash{}\\_heart\\textbackslash{}\\_rate] 0\n",
       "\\item[exercise\\textbackslash{}\\_induced\\textbackslash{}\\_angina] 0\n",
       "\\item[oldpeak] 0\n",
       "\\item[slope] 0\n",
       "\\item[num\\textbackslash{}\\_of\\textbackslash{}\\_major\\textbackslash{}\\_vessels] 0\n",
       "\\item[thalassemia] 0\n",
       "\\item[diagnosis] 0\n",
       "\\end{description*}\n"
      ],
      "text/markdown": [
       "age\n",
       ":   0sex\n",
       ":   0chest_pain\n",
       ":   0resting_blood_pressure\n",
       ":   0serum_cholesterol\n",
       ":   0fasting_blood_sugar\n",
       ":   0resting_ecg\n",
       ":   0max_heart_rate\n",
       ":   0exercise_induced_angina\n",
       ":   0oldpeak\n",
       ":   0slope\n",
       ":   0num_of_major_vessels\n",
       ":   0thalassemia\n",
       ":   0diagnosis\n",
       ":   0\n",
       "\n"
      ],
      "text/plain": [
       "                    age                     sex              chest_pain \n",
       "                      0                       0                       0 \n",
       " resting_blood_pressure       serum_cholesterol     fasting_blood_sugar \n",
       "                      0                       0                       0 \n",
       "            resting_ecg          max_heart_rate exercise_induced_angina \n",
       "                      0                       0                       0 \n",
       "                oldpeak                   slope    num_of_major_vessels \n",
       "                      0                       0                       0 \n",
       "            thalassemia               diagnosis \n",
       "                      0                       0 "
      ]
     },
     "metadata": {},
     "output_type": "display_data"
    }
   ],
   "source": [
    "colMeans(is.na(heart_disease))"
   ]
  },
  {
   "cell_type": "markdown",
   "id": "1dd310b9-7992-4428-a208-17c1facc43db",
   "metadata": {},
   "source": [
    "As we can see above, it looks like we have no NAs in our data. However on the UCI ML website, we know that our data has missing values."
   ]
  },
  {
   "cell_type": "code",
   "execution_count": 6,
   "id": "6d953d23-584f-4f99-8b17-5bdbef3aa160",
   "metadata": {},
   "outputs": [
    {
     "data": {
      "text/html": [
       "<table class=\"dataframe\">\n",
       "<caption>A data.frame: 303 × 14</caption>\n",
       "<thead>\n",
       "\t<tr><th></th><th scope=col>age</th><th scope=col>sex</th><th scope=col>chest_pain</th><th scope=col>resting_blood_pressure</th><th scope=col>serum_cholesterol</th><th scope=col>fasting_blood_sugar</th><th scope=col>resting_ecg</th><th scope=col>max_heart_rate</th><th scope=col>exercise_induced_angina</th><th scope=col>oldpeak</th><th scope=col>slope</th><th scope=col>num_of_major_vessels</th><th scope=col>thalassemia</th><th scope=col>diagnosis</th></tr>\n",
       "\t<tr><th></th><th scope=col>&lt;dbl&gt;</th><th scope=col>&lt;dbl&gt;</th><th scope=col>&lt;dbl&gt;</th><th scope=col>&lt;dbl&gt;</th><th scope=col>&lt;dbl&gt;</th><th scope=col>&lt;dbl&gt;</th><th scope=col>&lt;dbl&gt;</th><th scope=col>&lt;dbl&gt;</th><th scope=col>&lt;dbl&gt;</th><th scope=col>&lt;dbl&gt;</th><th scope=col>&lt;dbl&gt;</th><th scope=col>&lt;chr&gt;</th><th scope=col>&lt;chr&gt;</th><th scope=col>&lt;int&gt;</th></tr>\n",
       "</thead>\n",
       "<tbody>\n",
       "\t<tr><th scope=row>1</th><td>63</td><td>1</td><td>1</td><td>145</td><td>233</td><td>1</td><td>2</td><td>150</td><td>0</td><td>2.3</td><td>3</td><td>0.0</td><td>6.0</td><td>0</td></tr>\n",
       "\t<tr><th scope=row>2</th><td>67</td><td>1</td><td>4</td><td>160</td><td>286</td><td>0</td><td>2</td><td>108</td><td>1</td><td>1.5</td><td>2</td><td>3.0</td><td>3.0</td><td>2</td></tr>\n",
       "\t<tr><th scope=row>3</th><td>67</td><td>1</td><td>4</td><td>120</td><td>229</td><td>0</td><td>2</td><td>129</td><td>1</td><td>2.6</td><td>2</td><td>2.0</td><td>7.0</td><td>1</td></tr>\n",
       "\t<tr><th scope=row>4</th><td>37</td><td>1</td><td>3</td><td>130</td><td>250</td><td>0</td><td>0</td><td>187</td><td>0</td><td>3.5</td><td>3</td><td>0.0</td><td>3.0</td><td>0</td></tr>\n",
       "\t<tr><th scope=row>5</th><td>41</td><td>0</td><td>2</td><td>130</td><td>204</td><td>0</td><td>2</td><td>172</td><td>0</td><td>1.4</td><td>1</td><td>0.0</td><td>3.0</td><td>0</td></tr>\n",
       "\t<tr><th scope=row>6</th><td>56</td><td>1</td><td>2</td><td>120</td><td>236</td><td>0</td><td>0</td><td>178</td><td>0</td><td>0.8</td><td>1</td><td>0.0</td><td>3.0</td><td>0</td></tr>\n",
       "\t<tr><th scope=row>7</th><td>62</td><td>0</td><td>4</td><td>140</td><td>268</td><td>0</td><td>2</td><td>160</td><td>0</td><td>3.6</td><td>3</td><td>2.0</td><td>3.0</td><td>3</td></tr>\n",
       "\t<tr><th scope=row>8</th><td>57</td><td>0</td><td>4</td><td>120</td><td>354</td><td>0</td><td>0</td><td>163</td><td>1</td><td>0.6</td><td>1</td><td>0.0</td><td>3.0</td><td>0</td></tr>\n",
       "\t<tr><th scope=row>9</th><td>63</td><td>1</td><td>4</td><td>130</td><td>254</td><td>0</td><td>2</td><td>147</td><td>0</td><td>1.4</td><td>2</td><td>1.0</td><td>7.0</td><td>2</td></tr>\n",
       "\t<tr><th scope=row>10</th><td>53</td><td>1</td><td>4</td><td>140</td><td>203</td><td>1</td><td>2</td><td>155</td><td>1</td><td>3.1</td><td>3</td><td>0.0</td><td>7.0</td><td>1</td></tr>\n",
       "\t<tr><th scope=row>11</th><td>57</td><td>1</td><td>4</td><td>140</td><td>192</td><td>0</td><td>0</td><td>148</td><td>0</td><td>0.4</td><td>2</td><td>0.0</td><td>6.0</td><td>0</td></tr>\n",
       "\t<tr><th scope=row>12</th><td>56</td><td>0</td><td>2</td><td>140</td><td>294</td><td>0</td><td>2</td><td>153</td><td>0</td><td>1.3</td><td>2</td><td>0.0</td><td>3.0</td><td>0</td></tr>\n",
       "\t<tr><th scope=row>13</th><td>56</td><td>1</td><td>3</td><td>130</td><td>256</td><td>1</td><td>2</td><td>142</td><td>1</td><td>0.6</td><td>2</td><td>1.0</td><td>6.0</td><td>2</td></tr>\n",
       "\t<tr><th scope=row>14</th><td>44</td><td>1</td><td>2</td><td>120</td><td>263</td><td>0</td><td>0</td><td>173</td><td>0</td><td>0.0</td><td>1</td><td>0.0</td><td>7.0</td><td>0</td></tr>\n",
       "\t<tr><th scope=row>15</th><td>52</td><td>1</td><td>3</td><td>172</td><td>199</td><td>1</td><td>0</td><td>162</td><td>0</td><td>0.5</td><td>1</td><td>0.0</td><td>7.0</td><td>0</td></tr>\n",
       "\t<tr><th scope=row>16</th><td>57</td><td>1</td><td>3</td><td>150</td><td>168</td><td>0</td><td>0</td><td>174</td><td>0</td><td>1.6</td><td>1</td><td>0.0</td><td>3.0</td><td>0</td></tr>\n",
       "\t<tr><th scope=row>17</th><td>48</td><td>1</td><td>2</td><td>110</td><td>229</td><td>0</td><td>0</td><td>168</td><td>0</td><td>1.0</td><td>3</td><td>0.0</td><td>7.0</td><td>1</td></tr>\n",
       "\t<tr><th scope=row>18</th><td>54</td><td>1</td><td>4</td><td>140</td><td>239</td><td>0</td><td>0</td><td>160</td><td>0</td><td>1.2</td><td>1</td><td>0.0</td><td>3.0</td><td>0</td></tr>\n",
       "\t<tr><th scope=row>19</th><td>48</td><td>0</td><td>3</td><td>130</td><td>275</td><td>0</td><td>0</td><td>139</td><td>0</td><td>0.2</td><td>1</td><td>0.0</td><td>3.0</td><td>0</td></tr>\n",
       "\t<tr><th scope=row>20</th><td>49</td><td>1</td><td>2</td><td>130</td><td>266</td><td>0</td><td>0</td><td>171</td><td>0</td><td>0.6</td><td>1</td><td>0.0</td><td>3.0</td><td>0</td></tr>\n",
       "\t<tr><th scope=row>21</th><td>64</td><td>1</td><td>1</td><td>110</td><td>211</td><td>0</td><td>2</td><td>144</td><td>1</td><td>1.8</td><td>2</td><td>0.0</td><td>3.0</td><td>0</td></tr>\n",
       "\t<tr><th scope=row>22</th><td>58</td><td>0</td><td>1</td><td>150</td><td>283</td><td>1</td><td>2</td><td>162</td><td>0</td><td>1.0</td><td>1</td><td>0.0</td><td>3.0</td><td>0</td></tr>\n",
       "\t<tr><th scope=row>23</th><td>58</td><td>1</td><td>2</td><td>120</td><td>284</td><td>0</td><td>2</td><td>160</td><td>0</td><td>1.8</td><td>2</td><td>0.0</td><td>3.0</td><td>1</td></tr>\n",
       "\t<tr><th scope=row>24</th><td>58</td><td>1</td><td>3</td><td>132</td><td>224</td><td>0</td><td>2</td><td>173</td><td>0</td><td>3.2</td><td>1</td><td>2.0</td><td>7.0</td><td>3</td></tr>\n",
       "\t<tr><th scope=row>25</th><td>60</td><td>1</td><td>4</td><td>130</td><td>206</td><td>0</td><td>2</td><td>132</td><td>1</td><td>2.4</td><td>2</td><td>2.0</td><td>7.0</td><td>4</td></tr>\n",
       "\t<tr><th scope=row>26</th><td>50</td><td>0</td><td>3</td><td>120</td><td>219</td><td>0</td><td>0</td><td>158</td><td>0</td><td>1.6</td><td>2</td><td>0.0</td><td>3.0</td><td>0</td></tr>\n",
       "\t<tr><th scope=row>27</th><td>58</td><td>0</td><td>3</td><td>120</td><td>340</td><td>0</td><td>0</td><td>172</td><td>0</td><td>0.0</td><td>1</td><td>0.0</td><td>3.0</td><td>0</td></tr>\n",
       "\t<tr><th scope=row>28</th><td>66</td><td>0</td><td>1</td><td>150</td><td>226</td><td>0</td><td>0</td><td>114</td><td>0</td><td>2.6</td><td>3</td><td>0.0</td><td>3.0</td><td>0</td></tr>\n",
       "\t<tr><th scope=row>29</th><td>43</td><td>1</td><td>4</td><td>150</td><td>247</td><td>0</td><td>0</td><td>171</td><td>0</td><td>1.5</td><td>1</td><td>0.0</td><td>3.0</td><td>0</td></tr>\n",
       "\t<tr><th scope=row>30</th><td>40</td><td>1</td><td>4</td><td>110</td><td>167</td><td>0</td><td>2</td><td>114</td><td>1</td><td>2.0</td><td>2</td><td>0.0</td><td>7.0</td><td>3</td></tr>\n",
       "\t<tr><th scope=row>⋮</th><td>⋮</td><td>⋮</td><td>⋮</td><td>⋮</td><td>⋮</td><td>⋮</td><td>⋮</td><td>⋮</td><td>⋮</td><td>⋮</td><td>⋮</td><td>⋮</td><td>⋮</td><td>⋮</td></tr>\n",
       "\t<tr><th scope=row>274</th><td>71</td><td>0</td><td>4</td><td>112</td><td>149</td><td>0</td><td>0</td><td>125</td><td>0</td><td>1.6</td><td>2</td><td>0.0</td><td>3.0</td><td>0</td></tr>\n",
       "\t<tr><th scope=row>275</th><td>59</td><td>1</td><td>1</td><td>134</td><td>204</td><td>0</td><td>0</td><td>162</td><td>0</td><td>0.8</td><td>1</td><td>2.0</td><td>3.0</td><td>1</td></tr>\n",
       "\t<tr><th scope=row>276</th><td>64</td><td>1</td><td>1</td><td>170</td><td>227</td><td>0</td><td>2</td><td>155</td><td>0</td><td>0.6</td><td>2</td><td>0.0</td><td>7.0</td><td>0</td></tr>\n",
       "\t<tr><th scope=row>277</th><td>66</td><td>0</td><td>3</td><td>146</td><td>278</td><td>0</td><td>2</td><td>152</td><td>0</td><td>0.0</td><td>2</td><td>1.0</td><td>3.0</td><td>0</td></tr>\n",
       "\t<tr><th scope=row>278</th><td>39</td><td>0</td><td>3</td><td>138</td><td>220</td><td>0</td><td>0</td><td>152</td><td>0</td><td>0.0</td><td>2</td><td>0.0</td><td>3.0</td><td>0</td></tr>\n",
       "\t<tr><th scope=row>279</th><td>57</td><td>1</td><td>2</td><td>154</td><td>232</td><td>0</td><td>2</td><td>164</td><td>0</td><td>0.0</td><td>1</td><td>1.0</td><td>3.0</td><td>1</td></tr>\n",
       "\t<tr><th scope=row>280</th><td>58</td><td>0</td><td>4</td><td>130</td><td>197</td><td>0</td><td>0</td><td>131</td><td>0</td><td>0.6</td><td>2</td><td>0.0</td><td>3.0</td><td>0</td></tr>\n",
       "\t<tr><th scope=row>281</th><td>57</td><td>1</td><td>4</td><td>110</td><td>335</td><td>0</td><td>0</td><td>143</td><td>1</td><td>3.0</td><td>2</td><td>1.0</td><td>7.0</td><td>2</td></tr>\n",
       "\t<tr><th scope=row>282</th><td>47</td><td>1</td><td>3</td><td>130</td><td>253</td><td>0</td><td>0</td><td>179</td><td>0</td><td>0.0</td><td>1</td><td>0.0</td><td>3.0</td><td>0</td></tr>\n",
       "\t<tr><th scope=row>283</th><td>55</td><td>0</td><td>4</td><td>128</td><td>205</td><td>0</td><td>1</td><td>130</td><td>1</td><td>2.0</td><td>2</td><td>1.0</td><td>7.0</td><td>3</td></tr>\n",
       "\t<tr><th scope=row>284</th><td>35</td><td>1</td><td>2</td><td>122</td><td>192</td><td>0</td><td>0</td><td>174</td><td>0</td><td>0.0</td><td>1</td><td>0.0</td><td>3.0</td><td>0</td></tr>\n",
       "\t<tr><th scope=row>285</th><td>61</td><td>1</td><td>4</td><td>148</td><td>203</td><td>0</td><td>0</td><td>161</td><td>0</td><td>0.0</td><td>1</td><td>1.0</td><td>7.0</td><td>2</td></tr>\n",
       "\t<tr><th scope=row>286</th><td>58</td><td>1</td><td>4</td><td>114</td><td>318</td><td>0</td><td>1</td><td>140</td><td>0</td><td>4.4</td><td>3</td><td>3.0</td><td>6.0</td><td>4</td></tr>\n",
       "\t<tr><th scope=row>287</th><td>58</td><td>0</td><td>4</td><td>170</td><td>225</td><td>1</td><td>2</td><td>146</td><td>1</td><td>2.8</td><td>2</td><td>2.0</td><td>6.0</td><td>2</td></tr>\n",
       "\t<tr><th scope=row>288</th><td>58</td><td>1</td><td>2</td><td>125</td><td>220</td><td>0</td><td>0</td><td>144</td><td>0</td><td>0.4</td><td>2</td><td>?  </td><td>7.0</td><td>0</td></tr>\n",
       "\t<tr><th scope=row>289</th><td>56</td><td>1</td><td>2</td><td>130</td><td>221</td><td>0</td><td>2</td><td>163</td><td>0</td><td>0.0</td><td>1</td><td>0.0</td><td>7.0</td><td>0</td></tr>\n",
       "\t<tr><th scope=row>290</th><td>56</td><td>1</td><td>2</td><td>120</td><td>240</td><td>0</td><td>0</td><td>169</td><td>0</td><td>0.0</td><td>3</td><td>0.0</td><td>3.0</td><td>0</td></tr>\n",
       "\t<tr><th scope=row>291</th><td>67</td><td>1</td><td>3</td><td>152</td><td>212</td><td>0</td><td>2</td><td>150</td><td>0</td><td>0.8</td><td>2</td><td>0.0</td><td>7.0</td><td>1</td></tr>\n",
       "\t<tr><th scope=row>292</th><td>55</td><td>0</td><td>2</td><td>132</td><td>342</td><td>0</td><td>0</td><td>166</td><td>0</td><td>1.2</td><td>1</td><td>0.0</td><td>3.0</td><td>0</td></tr>\n",
       "\t<tr><th scope=row>293</th><td>44</td><td>1</td><td>4</td><td>120</td><td>169</td><td>0</td><td>0</td><td>144</td><td>1</td><td>2.8</td><td>3</td><td>0.0</td><td>6.0</td><td>2</td></tr>\n",
       "\t<tr><th scope=row>294</th><td>63</td><td>1</td><td>4</td><td>140</td><td>187</td><td>0</td><td>2</td><td>144</td><td>1</td><td>4.0</td><td>1</td><td>2.0</td><td>7.0</td><td>2</td></tr>\n",
       "\t<tr><th scope=row>295</th><td>63</td><td>0</td><td>4</td><td>124</td><td>197</td><td>0</td><td>0</td><td>136</td><td>1</td><td>0.0</td><td>2</td><td>0.0</td><td>3.0</td><td>1</td></tr>\n",
       "\t<tr><th scope=row>296</th><td>41</td><td>1</td><td>2</td><td>120</td><td>157</td><td>0</td><td>0</td><td>182</td><td>0</td><td>0.0</td><td>1</td><td>0.0</td><td>3.0</td><td>0</td></tr>\n",
       "\t<tr><th scope=row>297</th><td>59</td><td>1</td><td>4</td><td>164</td><td>176</td><td>1</td><td>2</td><td> 90</td><td>0</td><td>1.0</td><td>2</td><td>2.0</td><td>6.0</td><td>3</td></tr>\n",
       "\t<tr><th scope=row>298</th><td>57</td><td>0</td><td>4</td><td>140</td><td>241</td><td>0</td><td>0</td><td>123</td><td>1</td><td>0.2</td><td>2</td><td>0.0</td><td>7.0</td><td>1</td></tr>\n",
       "\t<tr><th scope=row>299</th><td>45</td><td>1</td><td>1</td><td>110</td><td>264</td><td>0</td><td>0</td><td>132</td><td>0</td><td>1.2</td><td>2</td><td>0.0</td><td>7.0</td><td>1</td></tr>\n",
       "\t<tr><th scope=row>300</th><td>68</td><td>1</td><td>4</td><td>144</td><td>193</td><td>1</td><td>0</td><td>141</td><td>0</td><td>3.4</td><td>2</td><td>2.0</td><td>7.0</td><td>2</td></tr>\n",
       "\t<tr><th scope=row>301</th><td>57</td><td>1</td><td>4</td><td>130</td><td>131</td><td>0</td><td>0</td><td>115</td><td>1</td><td>1.2</td><td>2</td><td>1.0</td><td>7.0</td><td>3</td></tr>\n",
       "\t<tr><th scope=row>302</th><td>57</td><td>0</td><td>2</td><td>130</td><td>236</td><td>0</td><td>2</td><td>174</td><td>0</td><td>0.0</td><td>2</td><td>1.0</td><td>3.0</td><td>1</td></tr>\n",
       "\t<tr><th scope=row>303</th><td>38</td><td>1</td><td>3</td><td>138</td><td>175</td><td>0</td><td>0</td><td>173</td><td>0</td><td>0.0</td><td>1</td><td>?  </td><td>3.0</td><td>0</td></tr>\n",
       "</tbody>\n",
       "</table>\n"
      ],
      "text/latex": [
       "A data.frame: 303 × 14\n",
       "\\begin{tabular}{r|llllllllllllll}\n",
       "  & age & sex & chest\\_pain & resting\\_blood\\_pressure & serum\\_cholesterol & fasting\\_blood\\_sugar & resting\\_ecg & max\\_heart\\_rate & exercise\\_induced\\_angina & oldpeak & slope & num\\_of\\_major\\_vessels & thalassemia & diagnosis\\\\\n",
       "  & <dbl> & <dbl> & <dbl> & <dbl> & <dbl> & <dbl> & <dbl> & <dbl> & <dbl> & <dbl> & <dbl> & <chr> & <chr> & <int>\\\\\n",
       "\\hline\n",
       "\t1 & 63 & 1 & 1 & 145 & 233 & 1 & 2 & 150 & 0 & 2.3 & 3 & 0.0 & 6.0 & 0\\\\\n",
       "\t2 & 67 & 1 & 4 & 160 & 286 & 0 & 2 & 108 & 1 & 1.5 & 2 & 3.0 & 3.0 & 2\\\\\n",
       "\t3 & 67 & 1 & 4 & 120 & 229 & 0 & 2 & 129 & 1 & 2.6 & 2 & 2.0 & 7.0 & 1\\\\\n",
       "\t4 & 37 & 1 & 3 & 130 & 250 & 0 & 0 & 187 & 0 & 3.5 & 3 & 0.0 & 3.0 & 0\\\\\n",
       "\t5 & 41 & 0 & 2 & 130 & 204 & 0 & 2 & 172 & 0 & 1.4 & 1 & 0.0 & 3.0 & 0\\\\\n",
       "\t6 & 56 & 1 & 2 & 120 & 236 & 0 & 0 & 178 & 0 & 0.8 & 1 & 0.0 & 3.0 & 0\\\\\n",
       "\t7 & 62 & 0 & 4 & 140 & 268 & 0 & 2 & 160 & 0 & 3.6 & 3 & 2.0 & 3.0 & 3\\\\\n",
       "\t8 & 57 & 0 & 4 & 120 & 354 & 0 & 0 & 163 & 1 & 0.6 & 1 & 0.0 & 3.0 & 0\\\\\n",
       "\t9 & 63 & 1 & 4 & 130 & 254 & 0 & 2 & 147 & 0 & 1.4 & 2 & 1.0 & 7.0 & 2\\\\\n",
       "\t10 & 53 & 1 & 4 & 140 & 203 & 1 & 2 & 155 & 1 & 3.1 & 3 & 0.0 & 7.0 & 1\\\\\n",
       "\t11 & 57 & 1 & 4 & 140 & 192 & 0 & 0 & 148 & 0 & 0.4 & 2 & 0.0 & 6.0 & 0\\\\\n",
       "\t12 & 56 & 0 & 2 & 140 & 294 & 0 & 2 & 153 & 0 & 1.3 & 2 & 0.0 & 3.0 & 0\\\\\n",
       "\t13 & 56 & 1 & 3 & 130 & 256 & 1 & 2 & 142 & 1 & 0.6 & 2 & 1.0 & 6.0 & 2\\\\\n",
       "\t14 & 44 & 1 & 2 & 120 & 263 & 0 & 0 & 173 & 0 & 0.0 & 1 & 0.0 & 7.0 & 0\\\\\n",
       "\t15 & 52 & 1 & 3 & 172 & 199 & 1 & 0 & 162 & 0 & 0.5 & 1 & 0.0 & 7.0 & 0\\\\\n",
       "\t16 & 57 & 1 & 3 & 150 & 168 & 0 & 0 & 174 & 0 & 1.6 & 1 & 0.0 & 3.0 & 0\\\\\n",
       "\t17 & 48 & 1 & 2 & 110 & 229 & 0 & 0 & 168 & 0 & 1.0 & 3 & 0.0 & 7.0 & 1\\\\\n",
       "\t18 & 54 & 1 & 4 & 140 & 239 & 0 & 0 & 160 & 0 & 1.2 & 1 & 0.0 & 3.0 & 0\\\\\n",
       "\t19 & 48 & 0 & 3 & 130 & 275 & 0 & 0 & 139 & 0 & 0.2 & 1 & 0.0 & 3.0 & 0\\\\\n",
       "\t20 & 49 & 1 & 2 & 130 & 266 & 0 & 0 & 171 & 0 & 0.6 & 1 & 0.0 & 3.0 & 0\\\\\n",
       "\t21 & 64 & 1 & 1 & 110 & 211 & 0 & 2 & 144 & 1 & 1.8 & 2 & 0.0 & 3.0 & 0\\\\\n",
       "\t22 & 58 & 0 & 1 & 150 & 283 & 1 & 2 & 162 & 0 & 1.0 & 1 & 0.0 & 3.0 & 0\\\\\n",
       "\t23 & 58 & 1 & 2 & 120 & 284 & 0 & 2 & 160 & 0 & 1.8 & 2 & 0.0 & 3.0 & 1\\\\\n",
       "\t24 & 58 & 1 & 3 & 132 & 224 & 0 & 2 & 173 & 0 & 3.2 & 1 & 2.0 & 7.0 & 3\\\\\n",
       "\t25 & 60 & 1 & 4 & 130 & 206 & 0 & 2 & 132 & 1 & 2.4 & 2 & 2.0 & 7.0 & 4\\\\\n",
       "\t26 & 50 & 0 & 3 & 120 & 219 & 0 & 0 & 158 & 0 & 1.6 & 2 & 0.0 & 3.0 & 0\\\\\n",
       "\t27 & 58 & 0 & 3 & 120 & 340 & 0 & 0 & 172 & 0 & 0.0 & 1 & 0.0 & 3.0 & 0\\\\\n",
       "\t28 & 66 & 0 & 1 & 150 & 226 & 0 & 0 & 114 & 0 & 2.6 & 3 & 0.0 & 3.0 & 0\\\\\n",
       "\t29 & 43 & 1 & 4 & 150 & 247 & 0 & 0 & 171 & 0 & 1.5 & 1 & 0.0 & 3.0 & 0\\\\\n",
       "\t30 & 40 & 1 & 4 & 110 & 167 & 0 & 2 & 114 & 1 & 2.0 & 2 & 0.0 & 7.0 & 3\\\\\n",
       "\t⋮ & ⋮ & ⋮ & ⋮ & ⋮ & ⋮ & ⋮ & ⋮ & ⋮ & ⋮ & ⋮ & ⋮ & ⋮ & ⋮ & ⋮\\\\\n",
       "\t274 & 71 & 0 & 4 & 112 & 149 & 0 & 0 & 125 & 0 & 1.6 & 2 & 0.0 & 3.0 & 0\\\\\n",
       "\t275 & 59 & 1 & 1 & 134 & 204 & 0 & 0 & 162 & 0 & 0.8 & 1 & 2.0 & 3.0 & 1\\\\\n",
       "\t276 & 64 & 1 & 1 & 170 & 227 & 0 & 2 & 155 & 0 & 0.6 & 2 & 0.0 & 7.0 & 0\\\\\n",
       "\t277 & 66 & 0 & 3 & 146 & 278 & 0 & 2 & 152 & 0 & 0.0 & 2 & 1.0 & 3.0 & 0\\\\\n",
       "\t278 & 39 & 0 & 3 & 138 & 220 & 0 & 0 & 152 & 0 & 0.0 & 2 & 0.0 & 3.0 & 0\\\\\n",
       "\t279 & 57 & 1 & 2 & 154 & 232 & 0 & 2 & 164 & 0 & 0.0 & 1 & 1.0 & 3.0 & 1\\\\\n",
       "\t280 & 58 & 0 & 4 & 130 & 197 & 0 & 0 & 131 & 0 & 0.6 & 2 & 0.0 & 3.0 & 0\\\\\n",
       "\t281 & 57 & 1 & 4 & 110 & 335 & 0 & 0 & 143 & 1 & 3.0 & 2 & 1.0 & 7.0 & 2\\\\\n",
       "\t282 & 47 & 1 & 3 & 130 & 253 & 0 & 0 & 179 & 0 & 0.0 & 1 & 0.0 & 3.0 & 0\\\\\n",
       "\t283 & 55 & 0 & 4 & 128 & 205 & 0 & 1 & 130 & 1 & 2.0 & 2 & 1.0 & 7.0 & 3\\\\\n",
       "\t284 & 35 & 1 & 2 & 122 & 192 & 0 & 0 & 174 & 0 & 0.0 & 1 & 0.0 & 3.0 & 0\\\\\n",
       "\t285 & 61 & 1 & 4 & 148 & 203 & 0 & 0 & 161 & 0 & 0.0 & 1 & 1.0 & 7.0 & 2\\\\\n",
       "\t286 & 58 & 1 & 4 & 114 & 318 & 0 & 1 & 140 & 0 & 4.4 & 3 & 3.0 & 6.0 & 4\\\\\n",
       "\t287 & 58 & 0 & 4 & 170 & 225 & 1 & 2 & 146 & 1 & 2.8 & 2 & 2.0 & 6.0 & 2\\\\\n",
       "\t288 & 58 & 1 & 2 & 125 & 220 & 0 & 0 & 144 & 0 & 0.4 & 2 & ?   & 7.0 & 0\\\\\n",
       "\t289 & 56 & 1 & 2 & 130 & 221 & 0 & 2 & 163 & 0 & 0.0 & 1 & 0.0 & 7.0 & 0\\\\\n",
       "\t290 & 56 & 1 & 2 & 120 & 240 & 0 & 0 & 169 & 0 & 0.0 & 3 & 0.0 & 3.0 & 0\\\\\n",
       "\t291 & 67 & 1 & 3 & 152 & 212 & 0 & 2 & 150 & 0 & 0.8 & 2 & 0.0 & 7.0 & 1\\\\\n",
       "\t292 & 55 & 0 & 2 & 132 & 342 & 0 & 0 & 166 & 0 & 1.2 & 1 & 0.0 & 3.0 & 0\\\\\n",
       "\t293 & 44 & 1 & 4 & 120 & 169 & 0 & 0 & 144 & 1 & 2.8 & 3 & 0.0 & 6.0 & 2\\\\\n",
       "\t294 & 63 & 1 & 4 & 140 & 187 & 0 & 2 & 144 & 1 & 4.0 & 1 & 2.0 & 7.0 & 2\\\\\n",
       "\t295 & 63 & 0 & 4 & 124 & 197 & 0 & 0 & 136 & 1 & 0.0 & 2 & 0.0 & 3.0 & 1\\\\\n",
       "\t296 & 41 & 1 & 2 & 120 & 157 & 0 & 0 & 182 & 0 & 0.0 & 1 & 0.0 & 3.0 & 0\\\\\n",
       "\t297 & 59 & 1 & 4 & 164 & 176 & 1 & 2 &  90 & 0 & 1.0 & 2 & 2.0 & 6.0 & 3\\\\\n",
       "\t298 & 57 & 0 & 4 & 140 & 241 & 0 & 0 & 123 & 1 & 0.2 & 2 & 0.0 & 7.0 & 1\\\\\n",
       "\t299 & 45 & 1 & 1 & 110 & 264 & 0 & 0 & 132 & 0 & 1.2 & 2 & 0.0 & 7.0 & 1\\\\\n",
       "\t300 & 68 & 1 & 4 & 144 & 193 & 1 & 0 & 141 & 0 & 3.4 & 2 & 2.0 & 7.0 & 2\\\\\n",
       "\t301 & 57 & 1 & 4 & 130 & 131 & 0 & 0 & 115 & 1 & 1.2 & 2 & 1.0 & 7.0 & 3\\\\\n",
       "\t302 & 57 & 0 & 2 & 130 & 236 & 0 & 2 & 174 & 0 & 0.0 & 2 & 1.0 & 3.0 & 1\\\\\n",
       "\t303 & 38 & 1 & 3 & 138 & 175 & 0 & 0 & 173 & 0 & 0.0 & 1 & ?   & 3.0 & 0\\\\\n",
       "\\end{tabular}\n"
      ],
      "text/markdown": [
       "\n",
       "A data.frame: 303 × 14\n",
       "\n",
       "| <!--/--> | age &lt;dbl&gt; | sex &lt;dbl&gt; | chest_pain &lt;dbl&gt; | resting_blood_pressure &lt;dbl&gt; | serum_cholesterol &lt;dbl&gt; | fasting_blood_sugar &lt;dbl&gt; | resting_ecg &lt;dbl&gt; | max_heart_rate &lt;dbl&gt; | exercise_induced_angina &lt;dbl&gt; | oldpeak &lt;dbl&gt; | slope &lt;dbl&gt; | num_of_major_vessels &lt;chr&gt; | thalassemia &lt;chr&gt; | diagnosis &lt;int&gt; |\n",
       "|---|---|---|---|---|---|---|---|---|---|---|---|---|---|---|\n",
       "| 1 | 63 | 1 | 1 | 145 | 233 | 1 | 2 | 150 | 0 | 2.3 | 3 | 0.0 | 6.0 | 0 |\n",
       "| 2 | 67 | 1 | 4 | 160 | 286 | 0 | 2 | 108 | 1 | 1.5 | 2 | 3.0 | 3.0 | 2 |\n",
       "| 3 | 67 | 1 | 4 | 120 | 229 | 0 | 2 | 129 | 1 | 2.6 | 2 | 2.0 | 7.0 | 1 |\n",
       "| 4 | 37 | 1 | 3 | 130 | 250 | 0 | 0 | 187 | 0 | 3.5 | 3 | 0.0 | 3.0 | 0 |\n",
       "| 5 | 41 | 0 | 2 | 130 | 204 | 0 | 2 | 172 | 0 | 1.4 | 1 | 0.0 | 3.0 | 0 |\n",
       "| 6 | 56 | 1 | 2 | 120 | 236 | 0 | 0 | 178 | 0 | 0.8 | 1 | 0.0 | 3.0 | 0 |\n",
       "| 7 | 62 | 0 | 4 | 140 | 268 | 0 | 2 | 160 | 0 | 3.6 | 3 | 2.0 | 3.0 | 3 |\n",
       "| 8 | 57 | 0 | 4 | 120 | 354 | 0 | 0 | 163 | 1 | 0.6 | 1 | 0.0 | 3.0 | 0 |\n",
       "| 9 | 63 | 1 | 4 | 130 | 254 | 0 | 2 | 147 | 0 | 1.4 | 2 | 1.0 | 7.0 | 2 |\n",
       "| 10 | 53 | 1 | 4 | 140 | 203 | 1 | 2 | 155 | 1 | 3.1 | 3 | 0.0 | 7.0 | 1 |\n",
       "| 11 | 57 | 1 | 4 | 140 | 192 | 0 | 0 | 148 | 0 | 0.4 | 2 | 0.0 | 6.0 | 0 |\n",
       "| 12 | 56 | 0 | 2 | 140 | 294 | 0 | 2 | 153 | 0 | 1.3 | 2 | 0.0 | 3.0 | 0 |\n",
       "| 13 | 56 | 1 | 3 | 130 | 256 | 1 | 2 | 142 | 1 | 0.6 | 2 | 1.0 | 6.0 | 2 |\n",
       "| 14 | 44 | 1 | 2 | 120 | 263 | 0 | 0 | 173 | 0 | 0.0 | 1 | 0.0 | 7.0 | 0 |\n",
       "| 15 | 52 | 1 | 3 | 172 | 199 | 1 | 0 | 162 | 0 | 0.5 | 1 | 0.0 | 7.0 | 0 |\n",
       "| 16 | 57 | 1 | 3 | 150 | 168 | 0 | 0 | 174 | 0 | 1.6 | 1 | 0.0 | 3.0 | 0 |\n",
       "| 17 | 48 | 1 | 2 | 110 | 229 | 0 | 0 | 168 | 0 | 1.0 | 3 | 0.0 | 7.0 | 1 |\n",
       "| 18 | 54 | 1 | 4 | 140 | 239 | 0 | 0 | 160 | 0 | 1.2 | 1 | 0.0 | 3.0 | 0 |\n",
       "| 19 | 48 | 0 | 3 | 130 | 275 | 0 | 0 | 139 | 0 | 0.2 | 1 | 0.0 | 3.0 | 0 |\n",
       "| 20 | 49 | 1 | 2 | 130 | 266 | 0 | 0 | 171 | 0 | 0.6 | 1 | 0.0 | 3.0 | 0 |\n",
       "| 21 | 64 | 1 | 1 | 110 | 211 | 0 | 2 | 144 | 1 | 1.8 | 2 | 0.0 | 3.0 | 0 |\n",
       "| 22 | 58 | 0 | 1 | 150 | 283 | 1 | 2 | 162 | 0 | 1.0 | 1 | 0.0 | 3.0 | 0 |\n",
       "| 23 | 58 | 1 | 2 | 120 | 284 | 0 | 2 | 160 | 0 | 1.8 | 2 | 0.0 | 3.0 | 1 |\n",
       "| 24 | 58 | 1 | 3 | 132 | 224 | 0 | 2 | 173 | 0 | 3.2 | 1 | 2.0 | 7.0 | 3 |\n",
       "| 25 | 60 | 1 | 4 | 130 | 206 | 0 | 2 | 132 | 1 | 2.4 | 2 | 2.0 | 7.0 | 4 |\n",
       "| 26 | 50 | 0 | 3 | 120 | 219 | 0 | 0 | 158 | 0 | 1.6 | 2 | 0.0 | 3.0 | 0 |\n",
       "| 27 | 58 | 0 | 3 | 120 | 340 | 0 | 0 | 172 | 0 | 0.0 | 1 | 0.0 | 3.0 | 0 |\n",
       "| 28 | 66 | 0 | 1 | 150 | 226 | 0 | 0 | 114 | 0 | 2.6 | 3 | 0.0 | 3.0 | 0 |\n",
       "| 29 | 43 | 1 | 4 | 150 | 247 | 0 | 0 | 171 | 0 | 1.5 | 1 | 0.0 | 3.0 | 0 |\n",
       "| 30 | 40 | 1 | 4 | 110 | 167 | 0 | 2 | 114 | 1 | 2.0 | 2 | 0.0 | 7.0 | 3 |\n",
       "| ⋮ | ⋮ | ⋮ | ⋮ | ⋮ | ⋮ | ⋮ | ⋮ | ⋮ | ⋮ | ⋮ | ⋮ | ⋮ | ⋮ | ⋮ |\n",
       "| 274 | 71 | 0 | 4 | 112 | 149 | 0 | 0 | 125 | 0 | 1.6 | 2 | 0.0 | 3.0 | 0 |\n",
       "| 275 | 59 | 1 | 1 | 134 | 204 | 0 | 0 | 162 | 0 | 0.8 | 1 | 2.0 | 3.0 | 1 |\n",
       "| 276 | 64 | 1 | 1 | 170 | 227 | 0 | 2 | 155 | 0 | 0.6 | 2 | 0.0 | 7.0 | 0 |\n",
       "| 277 | 66 | 0 | 3 | 146 | 278 | 0 | 2 | 152 | 0 | 0.0 | 2 | 1.0 | 3.0 | 0 |\n",
       "| 278 | 39 | 0 | 3 | 138 | 220 | 0 | 0 | 152 | 0 | 0.0 | 2 | 0.0 | 3.0 | 0 |\n",
       "| 279 | 57 | 1 | 2 | 154 | 232 | 0 | 2 | 164 | 0 | 0.0 | 1 | 1.0 | 3.0 | 1 |\n",
       "| 280 | 58 | 0 | 4 | 130 | 197 | 0 | 0 | 131 | 0 | 0.6 | 2 | 0.0 | 3.0 | 0 |\n",
       "| 281 | 57 | 1 | 4 | 110 | 335 | 0 | 0 | 143 | 1 | 3.0 | 2 | 1.0 | 7.0 | 2 |\n",
       "| 282 | 47 | 1 | 3 | 130 | 253 | 0 | 0 | 179 | 0 | 0.0 | 1 | 0.0 | 3.0 | 0 |\n",
       "| 283 | 55 | 0 | 4 | 128 | 205 | 0 | 1 | 130 | 1 | 2.0 | 2 | 1.0 | 7.0 | 3 |\n",
       "| 284 | 35 | 1 | 2 | 122 | 192 | 0 | 0 | 174 | 0 | 0.0 | 1 | 0.0 | 3.0 | 0 |\n",
       "| 285 | 61 | 1 | 4 | 148 | 203 | 0 | 0 | 161 | 0 | 0.0 | 1 | 1.0 | 7.0 | 2 |\n",
       "| 286 | 58 | 1 | 4 | 114 | 318 | 0 | 1 | 140 | 0 | 4.4 | 3 | 3.0 | 6.0 | 4 |\n",
       "| 287 | 58 | 0 | 4 | 170 | 225 | 1 | 2 | 146 | 1 | 2.8 | 2 | 2.0 | 6.0 | 2 |\n",
       "| 288 | 58 | 1 | 2 | 125 | 220 | 0 | 0 | 144 | 0 | 0.4 | 2 | ?   | 7.0 | 0 |\n",
       "| 289 | 56 | 1 | 2 | 130 | 221 | 0 | 2 | 163 | 0 | 0.0 | 1 | 0.0 | 7.0 | 0 |\n",
       "| 290 | 56 | 1 | 2 | 120 | 240 | 0 | 0 | 169 | 0 | 0.0 | 3 | 0.0 | 3.0 | 0 |\n",
       "| 291 | 67 | 1 | 3 | 152 | 212 | 0 | 2 | 150 | 0 | 0.8 | 2 | 0.0 | 7.0 | 1 |\n",
       "| 292 | 55 | 0 | 2 | 132 | 342 | 0 | 0 | 166 | 0 | 1.2 | 1 | 0.0 | 3.0 | 0 |\n",
       "| 293 | 44 | 1 | 4 | 120 | 169 | 0 | 0 | 144 | 1 | 2.8 | 3 | 0.0 | 6.0 | 2 |\n",
       "| 294 | 63 | 1 | 4 | 140 | 187 | 0 | 2 | 144 | 1 | 4.0 | 1 | 2.0 | 7.0 | 2 |\n",
       "| 295 | 63 | 0 | 4 | 124 | 197 | 0 | 0 | 136 | 1 | 0.0 | 2 | 0.0 | 3.0 | 1 |\n",
       "| 296 | 41 | 1 | 2 | 120 | 157 | 0 | 0 | 182 | 0 | 0.0 | 1 | 0.0 | 3.0 | 0 |\n",
       "| 297 | 59 | 1 | 4 | 164 | 176 | 1 | 2 |  90 | 0 | 1.0 | 2 | 2.0 | 6.0 | 3 |\n",
       "| 298 | 57 | 0 | 4 | 140 | 241 | 0 | 0 | 123 | 1 | 0.2 | 2 | 0.0 | 7.0 | 1 |\n",
       "| 299 | 45 | 1 | 1 | 110 | 264 | 0 | 0 | 132 | 0 | 1.2 | 2 | 0.0 | 7.0 | 1 |\n",
       "| 300 | 68 | 1 | 4 | 144 | 193 | 1 | 0 | 141 | 0 | 3.4 | 2 | 2.0 | 7.0 | 2 |\n",
       "| 301 | 57 | 1 | 4 | 130 | 131 | 0 | 0 | 115 | 1 | 1.2 | 2 | 1.0 | 7.0 | 3 |\n",
       "| 302 | 57 | 0 | 2 | 130 | 236 | 0 | 2 | 174 | 0 | 0.0 | 2 | 1.0 | 3.0 | 1 |\n",
       "| 303 | 38 | 1 | 3 | 138 | 175 | 0 | 0 | 173 | 0 | 0.0 | 1 | ?   | 3.0 | 0 |\n",
       "\n"
      ],
      "text/plain": [
       "    age sex chest_pain resting_blood_pressure serum_cholesterol\n",
       "1   63  1   1          145                    233              \n",
       "2   67  1   4          160                    286              \n",
       "3   67  1   4          120                    229              \n",
       "4   37  1   3          130                    250              \n",
       "5   41  0   2          130                    204              \n",
       "6   56  1   2          120                    236              \n",
       "7   62  0   4          140                    268              \n",
       "8   57  0   4          120                    354              \n",
       "9   63  1   4          130                    254              \n",
       "10  53  1   4          140                    203              \n",
       "11  57  1   4          140                    192              \n",
       "12  56  0   2          140                    294              \n",
       "13  56  1   3          130                    256              \n",
       "14  44  1   2          120                    263              \n",
       "15  52  1   3          172                    199              \n",
       "16  57  1   3          150                    168              \n",
       "17  48  1   2          110                    229              \n",
       "18  54  1   4          140                    239              \n",
       "19  48  0   3          130                    275              \n",
       "20  49  1   2          130                    266              \n",
       "21  64  1   1          110                    211              \n",
       "22  58  0   1          150                    283              \n",
       "23  58  1   2          120                    284              \n",
       "24  58  1   3          132                    224              \n",
       "25  60  1   4          130                    206              \n",
       "26  50  0   3          120                    219              \n",
       "27  58  0   3          120                    340              \n",
       "28  66  0   1          150                    226              \n",
       "29  43  1   4          150                    247              \n",
       "30  40  1   4          110                    167              \n",
       "⋮   ⋮   ⋮   ⋮          ⋮                      ⋮                \n",
       "274 71  0   4          112                    149              \n",
       "275 59  1   1          134                    204              \n",
       "276 64  1   1          170                    227              \n",
       "277 66  0   3          146                    278              \n",
       "278 39  0   3          138                    220              \n",
       "279 57  1   2          154                    232              \n",
       "280 58  0   4          130                    197              \n",
       "281 57  1   4          110                    335              \n",
       "282 47  1   3          130                    253              \n",
       "283 55  0   4          128                    205              \n",
       "284 35  1   2          122                    192              \n",
       "285 61  1   4          148                    203              \n",
       "286 58  1   4          114                    318              \n",
       "287 58  0   4          170                    225              \n",
       "288 58  1   2          125                    220              \n",
       "289 56  1   2          130                    221              \n",
       "290 56  1   2          120                    240              \n",
       "291 67  1   3          152                    212              \n",
       "292 55  0   2          132                    342              \n",
       "293 44  1   4          120                    169              \n",
       "294 63  1   4          140                    187              \n",
       "295 63  0   4          124                    197              \n",
       "296 41  1   2          120                    157              \n",
       "297 59  1   4          164                    176              \n",
       "298 57  0   4          140                    241              \n",
       "299 45  1   1          110                    264              \n",
       "300 68  1   4          144                    193              \n",
       "301 57  1   4          130                    131              \n",
       "302 57  0   2          130                    236              \n",
       "303 38  1   3          138                    175              \n",
       "    fasting_blood_sugar resting_ecg max_heart_rate exercise_induced_angina\n",
       "1   1                   2           150            0                      \n",
       "2   0                   2           108            1                      \n",
       "3   0                   2           129            1                      \n",
       "4   0                   0           187            0                      \n",
       "5   0                   2           172            0                      \n",
       "6   0                   0           178            0                      \n",
       "7   0                   2           160            0                      \n",
       "8   0                   0           163            1                      \n",
       "9   0                   2           147            0                      \n",
       "10  1                   2           155            1                      \n",
       "11  0                   0           148            0                      \n",
       "12  0                   2           153            0                      \n",
       "13  1                   2           142            1                      \n",
       "14  0                   0           173            0                      \n",
       "15  1                   0           162            0                      \n",
       "16  0                   0           174            0                      \n",
       "17  0                   0           168            0                      \n",
       "18  0                   0           160            0                      \n",
       "19  0                   0           139            0                      \n",
       "20  0                   0           171            0                      \n",
       "21  0                   2           144            1                      \n",
       "22  1                   2           162            0                      \n",
       "23  0                   2           160            0                      \n",
       "24  0                   2           173            0                      \n",
       "25  0                   2           132            1                      \n",
       "26  0                   0           158            0                      \n",
       "27  0                   0           172            0                      \n",
       "28  0                   0           114            0                      \n",
       "29  0                   0           171            0                      \n",
       "30  0                   2           114            1                      \n",
       "⋮   ⋮                   ⋮           ⋮              ⋮                      \n",
       "274 0                   0           125            0                      \n",
       "275 0                   0           162            0                      \n",
       "276 0                   2           155            0                      \n",
       "277 0                   2           152            0                      \n",
       "278 0                   0           152            0                      \n",
       "279 0                   2           164            0                      \n",
       "280 0                   0           131            0                      \n",
       "281 0                   0           143            1                      \n",
       "282 0                   0           179            0                      \n",
       "283 0                   1           130            1                      \n",
       "284 0                   0           174            0                      \n",
       "285 0                   0           161            0                      \n",
       "286 0                   1           140            0                      \n",
       "287 1                   2           146            1                      \n",
       "288 0                   0           144            0                      \n",
       "289 0                   2           163            0                      \n",
       "290 0                   0           169            0                      \n",
       "291 0                   2           150            0                      \n",
       "292 0                   0           166            0                      \n",
       "293 0                   0           144            1                      \n",
       "294 0                   2           144            1                      \n",
       "295 0                   0           136            1                      \n",
       "296 0                   0           182            0                      \n",
       "297 1                   2            90            0                      \n",
       "298 0                   0           123            1                      \n",
       "299 0                   0           132            0                      \n",
       "300 1                   0           141            0                      \n",
       "301 0                   0           115            1                      \n",
       "302 0                   2           174            0                      \n",
       "303 0                   0           173            0                      \n",
       "    oldpeak slope num_of_major_vessels thalassemia diagnosis\n",
       "1   2.3     3     0.0                  6.0         0        \n",
       "2   1.5     2     3.0                  3.0         2        \n",
       "3   2.6     2     2.0                  7.0         1        \n",
       "4   3.5     3     0.0                  3.0         0        \n",
       "5   1.4     1     0.0                  3.0         0        \n",
       "6   0.8     1     0.0                  3.0         0        \n",
       "7   3.6     3     2.0                  3.0         3        \n",
       "8   0.6     1     0.0                  3.0         0        \n",
       "9   1.4     2     1.0                  7.0         2        \n",
       "10  3.1     3     0.0                  7.0         1        \n",
       "11  0.4     2     0.0                  6.0         0        \n",
       "12  1.3     2     0.0                  3.0         0        \n",
       "13  0.6     2     1.0                  6.0         2        \n",
       "14  0.0     1     0.0                  7.0         0        \n",
       "15  0.5     1     0.0                  7.0         0        \n",
       "16  1.6     1     0.0                  3.0         0        \n",
       "17  1.0     3     0.0                  7.0         1        \n",
       "18  1.2     1     0.0                  3.0         0        \n",
       "19  0.2     1     0.0                  3.0         0        \n",
       "20  0.6     1     0.0                  3.0         0        \n",
       "21  1.8     2     0.0                  3.0         0        \n",
       "22  1.0     1     0.0                  3.0         0        \n",
       "23  1.8     2     0.0                  3.0         1        \n",
       "24  3.2     1     2.0                  7.0         3        \n",
       "25  2.4     2     2.0                  7.0         4        \n",
       "26  1.6     2     0.0                  3.0         0        \n",
       "27  0.0     1     0.0                  3.0         0        \n",
       "28  2.6     3     0.0                  3.0         0        \n",
       "29  1.5     1     0.0                  3.0         0        \n",
       "30  2.0     2     0.0                  7.0         3        \n",
       "⋮   ⋮       ⋮     ⋮                    ⋮           ⋮        \n",
       "274 1.6     2     0.0                  3.0         0        \n",
       "275 0.8     1     2.0                  3.0         1        \n",
       "276 0.6     2     0.0                  7.0         0        \n",
       "277 0.0     2     1.0                  3.0         0        \n",
       "278 0.0     2     0.0                  3.0         0        \n",
       "279 0.0     1     1.0                  3.0         1        \n",
       "280 0.6     2     0.0                  3.0         0        \n",
       "281 3.0     2     1.0                  7.0         2        \n",
       "282 0.0     1     0.0                  3.0         0        \n",
       "283 2.0     2     1.0                  7.0         3        \n",
       "284 0.0     1     0.0                  3.0         0        \n",
       "285 0.0     1     1.0                  7.0         2        \n",
       "286 4.4     3     3.0                  6.0         4        \n",
       "287 2.8     2     2.0                  6.0         2        \n",
       "288 0.4     2     ?                    7.0         0        \n",
       "289 0.0     1     0.0                  7.0         0        \n",
       "290 0.0     3     0.0                  3.0         0        \n",
       "291 0.8     2     0.0                  7.0         1        \n",
       "292 1.2     1     0.0                  3.0         0        \n",
       "293 2.8     3     0.0                  6.0         2        \n",
       "294 4.0     1     2.0                  7.0         2        \n",
       "295 0.0     2     0.0                  3.0         1        \n",
       "296 0.0     1     0.0                  3.0         0        \n",
       "297 1.0     2     2.0                  6.0         3        \n",
       "298 0.2     2     0.0                  7.0         1        \n",
       "299 1.2     2     0.0                  7.0         1        \n",
       "300 3.4     2     2.0                  7.0         2        \n",
       "301 1.2     2     1.0                  7.0         3        \n",
       "302 0.0     2     1.0                  3.0         1        \n",
       "303 0.0     1     ?                    3.0         0        "
      ]
     },
     "metadata": {},
     "output_type": "display_data"
    }
   ],
   "source": [
    "unique(heart_disease)"
   ]
  },
  {
   "cell_type": "markdown",
   "id": "64de1ae1-1cba-4938-991c-99dee48876e6",
   "metadata": {},
   "source": [
    "Instead of R recognizing our missing values, we have a question mark. We need to convert this to an actual NA that R will recognize."
   ]
  },
  {
   "cell_type": "code",
   "execution_count": 7,
   "id": "a7567e75-526f-4bd7-882d-c8e7811a9c63",
   "metadata": {},
   "outputs": [],
   "source": [
    "heart_disease[heart_disease == \"?\"] <- NA \n",
    "\n",
    "#code inspired from: https://statisticsglobe.com/replace-character-value-with-na-in-r"
   ]
  },
  {
   "cell_type": "markdown",
   "id": "d43fa1d0-9fb0-4468-9c7a-4b2deeabbd84",
   "metadata": {},
   "source": [
    "Now if we run out `colMeans` function again we will see that we do have missing values in num_of_major_vessels and thalassemia. We now need to remove these missing values."
   ]
  },
  {
   "cell_type": "code",
   "execution_count": 8,
   "id": "7562547c-51c3-43a6-becc-a6e2bfa9b165",
   "metadata": {},
   "outputs": [
    {
     "data": {
      "text/html": [
       "<style>\n",
       ".dl-inline {width: auto; margin:0; padding: 0}\n",
       ".dl-inline>dt, .dl-inline>dd {float: none; width: auto; display: inline-block}\n",
       ".dl-inline>dt::after {content: \":\\0020\"; padding-right: .5ex}\n",
       ".dl-inline>dt:not(:first-of-type) {padding-left: .5ex}\n",
       "</style><dl class=dl-inline><dt>age</dt><dd>0</dd><dt>sex</dt><dd>0</dd><dt>chest_pain</dt><dd>0</dd><dt>resting_blood_pressure</dt><dd>0</dd><dt>serum_cholesterol</dt><dd>0</dd><dt>fasting_blood_sugar</dt><dd>0</dd><dt>resting_ecg</dt><dd>0</dd><dt>max_heart_rate</dt><dd>0</dd><dt>exercise_induced_angina</dt><dd>0</dd><dt>oldpeak</dt><dd>0</dd><dt>slope</dt><dd>0</dd><dt>num_of_major_vessels</dt><dd>0.0132013201320132</dd><dt>thalassemia</dt><dd>0.0066006600660066</dd><dt>diagnosis</dt><dd>0</dd></dl>\n"
      ],
      "text/latex": [
       "\\begin{description*}\n",
       "\\item[age] 0\n",
       "\\item[sex] 0\n",
       "\\item[chest\\textbackslash{}\\_pain] 0\n",
       "\\item[resting\\textbackslash{}\\_blood\\textbackslash{}\\_pressure] 0\n",
       "\\item[serum\\textbackslash{}\\_cholesterol] 0\n",
       "\\item[fasting\\textbackslash{}\\_blood\\textbackslash{}\\_sugar] 0\n",
       "\\item[resting\\textbackslash{}\\_ecg] 0\n",
       "\\item[max\\textbackslash{}\\_heart\\textbackslash{}\\_rate] 0\n",
       "\\item[exercise\\textbackslash{}\\_induced\\textbackslash{}\\_angina] 0\n",
       "\\item[oldpeak] 0\n",
       "\\item[slope] 0\n",
       "\\item[num\\textbackslash{}\\_of\\textbackslash{}\\_major\\textbackslash{}\\_vessels] 0.0132013201320132\n",
       "\\item[thalassemia] 0.0066006600660066\n",
       "\\item[diagnosis] 0\n",
       "\\end{description*}\n"
      ],
      "text/markdown": [
       "age\n",
       ":   0sex\n",
       ":   0chest_pain\n",
       ":   0resting_blood_pressure\n",
       ":   0serum_cholesterol\n",
       ":   0fasting_blood_sugar\n",
       ":   0resting_ecg\n",
       ":   0max_heart_rate\n",
       ":   0exercise_induced_angina\n",
       ":   0oldpeak\n",
       ":   0slope\n",
       ":   0num_of_major_vessels\n",
       ":   0.0132013201320132thalassemia\n",
       ":   0.0066006600660066diagnosis\n",
       ":   0\n",
       "\n"
      ],
      "text/plain": [
       "                    age                     sex              chest_pain \n",
       "             0.00000000              0.00000000              0.00000000 \n",
       " resting_blood_pressure       serum_cholesterol     fasting_blood_sugar \n",
       "             0.00000000              0.00000000              0.00000000 \n",
       "            resting_ecg          max_heart_rate exercise_induced_angina \n",
       "             0.00000000              0.00000000              0.00000000 \n",
       "                oldpeak                   slope    num_of_major_vessels \n",
       "             0.00000000              0.00000000              0.01320132 \n",
       "            thalassemia               diagnosis \n",
       "             0.00660066              0.00000000 "
      ]
     },
     "metadata": {},
     "output_type": "display_data"
    }
   ],
   "source": [
    "colMeans(is.na(heart_disease))"
   ]
  },
  {
   "cell_type": "code",
   "execution_count": 9,
   "id": "c098edb2-9b20-427b-b63c-36879bc8804e",
   "metadata": {},
   "outputs": [],
   "source": [
    "heart_disease_clean <- na.omit(heart_disease)"
   ]
  },
  {
   "cell_type": "code",
   "execution_count": 10,
   "id": "050c7a7e-88ad-40f6-b79a-5481ede0360a",
   "metadata": {},
   "outputs": [
    {
     "data": {
      "text/html": [
       "<style>\n",
       ".dl-inline {width: auto; margin:0; padding: 0}\n",
       ".dl-inline>dt, .dl-inline>dd {float: none; width: auto; display: inline-block}\n",
       ".dl-inline>dt::after {content: \":\\0020\"; padding-right: .5ex}\n",
       ".dl-inline>dt:not(:first-of-type) {padding-left: .5ex}\n",
       "</style><dl class=dl-inline><dt>age</dt><dd>0</dd><dt>sex</dt><dd>0</dd><dt>chest_pain</dt><dd>0</dd><dt>resting_blood_pressure</dt><dd>0</dd><dt>serum_cholesterol</dt><dd>0</dd><dt>fasting_blood_sugar</dt><dd>0</dd><dt>resting_ecg</dt><dd>0</dd><dt>max_heart_rate</dt><dd>0</dd><dt>exercise_induced_angina</dt><dd>0</dd><dt>oldpeak</dt><dd>0</dd><dt>slope</dt><dd>0</dd><dt>num_of_major_vessels</dt><dd>0</dd><dt>thalassemia</dt><dd>0</dd><dt>diagnosis</dt><dd>0</dd></dl>\n"
      ],
      "text/latex": [
       "\\begin{description*}\n",
       "\\item[age] 0\n",
       "\\item[sex] 0\n",
       "\\item[chest\\textbackslash{}\\_pain] 0\n",
       "\\item[resting\\textbackslash{}\\_blood\\textbackslash{}\\_pressure] 0\n",
       "\\item[serum\\textbackslash{}\\_cholesterol] 0\n",
       "\\item[fasting\\textbackslash{}\\_blood\\textbackslash{}\\_sugar] 0\n",
       "\\item[resting\\textbackslash{}\\_ecg] 0\n",
       "\\item[max\\textbackslash{}\\_heart\\textbackslash{}\\_rate] 0\n",
       "\\item[exercise\\textbackslash{}\\_induced\\textbackslash{}\\_angina] 0\n",
       "\\item[oldpeak] 0\n",
       "\\item[slope] 0\n",
       "\\item[num\\textbackslash{}\\_of\\textbackslash{}\\_major\\textbackslash{}\\_vessels] 0\n",
       "\\item[thalassemia] 0\n",
       "\\item[diagnosis] 0\n",
       "\\end{description*}\n"
      ],
      "text/markdown": [
       "age\n",
       ":   0sex\n",
       ":   0chest_pain\n",
       ":   0resting_blood_pressure\n",
       ":   0serum_cholesterol\n",
       ":   0fasting_blood_sugar\n",
       ":   0resting_ecg\n",
       ":   0max_heart_rate\n",
       ":   0exercise_induced_angina\n",
       ":   0oldpeak\n",
       ":   0slope\n",
       ":   0num_of_major_vessels\n",
       ":   0thalassemia\n",
       ":   0diagnosis\n",
       ":   0\n",
       "\n"
      ],
      "text/plain": [
       "                    age                     sex              chest_pain \n",
       "                      0                       0                       0 \n",
       " resting_blood_pressure       serum_cholesterol     fasting_blood_sugar \n",
       "                      0                       0                       0 \n",
       "            resting_ecg          max_heart_rate exercise_induced_angina \n",
       "                      0                       0                       0 \n",
       "                oldpeak                   slope    num_of_major_vessels \n",
       "                      0                       0                       0 \n",
       "            thalassemia               diagnosis \n",
       "                      0                       0 "
      ]
     },
     "metadata": {},
     "output_type": "display_data"
    }
   ],
   "source": [
    "colMeans(is.na(heart_disease_clean))"
   ]
  },
  {
   "cell_type": "markdown",
   "id": "f86baa37-a34c-4393-9f5e-1d55f56ec2c2",
   "metadata": {},
   "source": [
    "Since the mean of each column is 0 we can tell that there are no more missing values in our dataset."
   ]
  },
  {
   "cell_type": "markdown",
   "id": "cf0494e3-a330-4850-bc5c-b64e4b668241",
   "metadata": {},
   "source": [
    "## Exploring Dataset"
   ]
  },
  {
   "cell_type": "markdown",
   "id": "aca8cf8c-4c1a-4064-843d-515f4fdeec9b",
   "metadata": {},
   "source": [
    "Next we need to get to know our data. We will do this by performing exploratory analysis where we summarize our data and graph a few relevant figures. The aim of doing this is to get a better understanding of what our final classification analysis will look like."
   ]
  },
  {
   "cell_type": "markdown",
   "id": "5d5c7cd1-684d-420a-a923-e39dd0e84928",
   "metadata": {},
   "source": [
    "The `glimpse`function allows us to easy tell what type of data we have (i.e. are variables made of integers or characters). This is especially important for our dataset since we have categorical data that is separated into groups with numerical values, for example there are three categories in a given variable and they are given a label from 1 to 3."
   ]
  },
  {
   "cell_type": "code",
   "execution_count": 11,
   "id": "ffb12604-3d81-44c8-a1cc-7537c8ed18ad",
   "metadata": {},
   "outputs": [
    {
     "name": "stdout",
     "output_type": "stream",
     "text": [
      "Rows: 297\n",
      "Columns: 14\n",
      "$ age                     \u001b[3m\u001b[90m<dbl>\u001b[39m\u001b[23m 63, 67, 67, 37, 41, 56, 62, 57, 63, 53, 57, 56…\n",
      "$ sex                     \u001b[3m\u001b[90m<dbl>\u001b[39m\u001b[23m 1, 1, 1, 1, 0, 1, 0, 0, 1, 1, 1, 0, 1, 1, 1, 1…\n",
      "$ chest_pain              \u001b[3m\u001b[90m<dbl>\u001b[39m\u001b[23m 1, 4, 4, 3, 2, 2, 4, 4, 4, 4, 4, 2, 3, 2, 3, 3…\n",
      "$ resting_blood_pressure  \u001b[3m\u001b[90m<dbl>\u001b[39m\u001b[23m 145, 160, 120, 130, 130, 120, 140, 120, 130, 1…\n",
      "$ serum_cholesterol       \u001b[3m\u001b[90m<dbl>\u001b[39m\u001b[23m 233, 286, 229, 250, 204, 236, 268, 354, 254, 2…\n",
      "$ fasting_blood_sugar     \u001b[3m\u001b[90m<dbl>\u001b[39m\u001b[23m 1, 0, 0, 0, 0, 0, 0, 0, 0, 1, 0, 0, 1, 0, 1, 0…\n",
      "$ resting_ecg             \u001b[3m\u001b[90m<dbl>\u001b[39m\u001b[23m 2, 2, 2, 0, 2, 0, 2, 0, 2, 2, 0, 2, 2, 0, 0, 0…\n",
      "$ max_heart_rate          \u001b[3m\u001b[90m<dbl>\u001b[39m\u001b[23m 150, 108, 129, 187, 172, 178, 160, 163, 147, 1…\n",
      "$ exercise_induced_angina \u001b[3m\u001b[90m<dbl>\u001b[39m\u001b[23m 0, 1, 1, 0, 0, 0, 0, 1, 0, 1, 0, 0, 1, 0, 0, 0…\n",
      "$ oldpeak                 \u001b[3m\u001b[90m<dbl>\u001b[39m\u001b[23m 2.3, 1.5, 2.6, 3.5, 1.4, 0.8, 3.6, 0.6, 1.4, 3…\n",
      "$ slope                   \u001b[3m\u001b[90m<dbl>\u001b[39m\u001b[23m 3, 2, 2, 3, 1, 1, 3, 1, 2, 3, 2, 2, 2, 1, 1, 1…\n",
      "$ num_of_major_vessels    \u001b[3m\u001b[90m<chr>\u001b[39m\u001b[23m \"0.0\", \"3.0\", \"2.0\", \"0.0\", \"0.0\", \"0.0\", \"2.0…\n",
      "$ thalassemia             \u001b[3m\u001b[90m<chr>\u001b[39m\u001b[23m \"6.0\", \"3.0\", \"7.0\", \"3.0\", \"3.0\", \"3.0\", \"3.0…\n",
      "$ diagnosis               \u001b[3m\u001b[90m<int>\u001b[39m\u001b[23m 0, 2, 1, 0, 0, 0, 3, 0, 2, 1, 0, 0, 2, 0, 0, 0…\n"
     ]
    }
   ],
   "source": [
    "glimpse(heart_disease_clean)"
   ]
  },
  {
   "cell_type": "markdown",
   "id": "8ecc5bf2-47c1-44c3-938d-d9ed0611b718",
   "metadata": {},
   "source": [
    "We know that sex, chest_pain, fasting_blood_sugar, resting_ecg, exercise_induced_angina and slope are all categorical variables but we can see that R is interpreting them are quantitative variables. It is important for us keep this in mind when we process our data. Additionally we can see that in this dataset num_of_major_vessels and thalassemia are characters. Since num_of_major_vessels is a quantitative variable we will be converting this to a numerical type. We will also convert all the categorical variables into factor types. \n",
    "\n",
    "One thing to note is that our target class (diagnosis) has values from 0 to 4 where 0 means that heart disease was not present and 1-4 indicate increasing severity of the heart disease. For this analysis we will combine all instances where heart disease was present and represent that with a value of 1."
   ]
  },
  {
   "cell_type": "code",
   "execution_count": 12,
   "id": "7cb25b8a-8b7a-4caa-97fe-ce46438c1295",
   "metadata": {},
   "outputs": [
    {
     "name": "stdout",
     "output_type": "stream",
     "text": [
      "Rows: 297\n",
      "Columns: 14\n",
      "$ age                     \u001b[3m\u001b[90m<dbl>\u001b[39m\u001b[23m 63, 67, 67, 37, 41, 56, 62, 57, 63, 53, 57, 56…\n",
      "$ sex                     \u001b[3m\u001b[90m<fct>\u001b[39m\u001b[23m 1, 1, 1, 1, 0, 1, 0, 0, 1, 1, 1, 0, 1, 1, 1, 1…\n",
      "$ chest_pain              \u001b[3m\u001b[90m<fct>\u001b[39m\u001b[23m 1, 4, 4, 3, 2, 2, 4, 4, 4, 4, 4, 2, 3, 2, 3, 3…\n",
      "$ resting_blood_pressure  \u001b[3m\u001b[90m<dbl>\u001b[39m\u001b[23m 145, 160, 120, 130, 130, 120, 140, 120, 130, 1…\n",
      "$ serum_cholesterol       \u001b[3m\u001b[90m<dbl>\u001b[39m\u001b[23m 233, 286, 229, 250, 204, 236, 268, 354, 254, 2…\n",
      "$ fasting_blood_sugar     \u001b[3m\u001b[90m<fct>\u001b[39m\u001b[23m 1, 0, 0, 0, 0, 0, 0, 0, 0, 1, 0, 0, 1, 0, 1, 0…\n",
      "$ resting_ecg             \u001b[3m\u001b[90m<fct>\u001b[39m\u001b[23m 2, 2, 2, 0, 2, 0, 2, 0, 2, 2, 0, 2, 2, 0, 0, 0…\n",
      "$ max_heart_rate          \u001b[3m\u001b[90m<dbl>\u001b[39m\u001b[23m 150, 108, 129, 187, 172, 178, 160, 163, 147, 1…\n",
      "$ exercise_induced_angina \u001b[3m\u001b[90m<fct>\u001b[39m\u001b[23m 0, 1, 1, 0, 0, 0, 0, 1, 0, 1, 0, 0, 1, 0, 0, 0…\n",
      "$ oldpeak                 \u001b[3m\u001b[90m<dbl>\u001b[39m\u001b[23m 2.3, 1.5, 2.6, 3.5, 1.4, 0.8, 3.6, 0.6, 1.4, 3…\n",
      "$ slope                   \u001b[3m\u001b[90m<fct>\u001b[39m\u001b[23m 3, 2, 2, 3, 1, 1, 3, 1, 2, 3, 2, 2, 2, 1, 1, 1…\n",
      "$ num_of_major_vessels    \u001b[3m\u001b[90m<dbl>\u001b[39m\u001b[23m 0, 3, 2, 0, 0, 0, 2, 0, 1, 0, 0, 0, 1, 0, 0, 0…\n",
      "$ thalassemia             \u001b[3m\u001b[90m<fct>\u001b[39m\u001b[23m 6.0, 3.0, 7.0, 3.0, 3.0, 3.0, 3.0, 3.0, 7.0, 7…\n",
      "$ diagnosis               \u001b[3m\u001b[90m<fct>\u001b[39m\u001b[23m 0, 1, 1, 0, 0, 0, 1, 0, 1, 1, 0, 0, 1, 0, 0, 0…\n"
     ]
    }
   ],
   "source": [
    "heart_disease_clean <- heart_disease_clean %>%\n",
    "    mutate(num_of_major_vessels = as.numeric(num_of_major_vessels))\n",
    "\n",
    "heart_disease_clean$diagnosis[heart_disease_clean$diagnosis > 0] <- 1\n",
    "\n",
    "#code inspired by: https://stackoverflow.com/questions/35426903/change-class-of-multiple-columns-in-data-frame-without-for-loop\n",
    "heart_disease_clean[,c(2:3, 6:7, 9, 11, 13:14)] <- lapply(heart_disease_clean[,c(2:3, 6:7, 9, 11, 13:14)], as.factor)\n",
    "\n",
    "\n",
    "\n",
    "glimpse(heart_disease_clean)"
   ]
  },
  {
   "cell_type": "code",
   "execution_count": 13,
   "id": "670cb67a-18df-454a-9222-f85271a815f4",
   "metadata": {},
   "outputs": [
    {
     "data": {
      "text/plain": [
       "      age             sex           chest_pain    resting_blood_pressure\n",
       " Min.   :29.00   Min.   :0.0000   Min.   :1.000   Min.   : 94.0         \n",
       " 1st Qu.:48.00   1st Qu.:0.0000   1st Qu.:3.000   1st Qu.:120.0         \n",
       " Median :56.00   Median :1.0000   Median :3.000   Median :130.0         \n",
       " Mean   :54.44   Mean   :0.6799   Mean   :3.158   Mean   :131.7         \n",
       " 3rd Qu.:61.00   3rd Qu.:1.0000   3rd Qu.:4.000   3rd Qu.:140.0         \n",
       " Max.   :77.00   Max.   :1.0000   Max.   :4.000   Max.   :200.0         \n",
       " serum_cholesterol fasting_blood_sugar  resting_ecg     max_heart_rate \n",
       " Min.   :126.0     Min.   :0.0000      Min.   :0.0000   Min.   : 71.0  \n",
       " 1st Qu.:211.0     1st Qu.:0.0000      1st Qu.:0.0000   1st Qu.:133.5  \n",
       " Median :241.0     Median :0.0000      Median :1.0000   Median :153.0  \n",
       " Mean   :246.7     Mean   :0.1485      Mean   :0.9901   Mean   :149.6  \n",
       " 3rd Qu.:275.0     3rd Qu.:0.0000      3rd Qu.:2.0000   3rd Qu.:166.0  \n",
       " Max.   :564.0     Max.   :1.0000      Max.   :2.0000   Max.   :202.0  \n",
       " exercise_induced_angina    oldpeak         slope       num_of_major_vessels\n",
       " Min.   :0.0000          Min.   :0.00   Min.   :1.000   Length:303          \n",
       " 1st Qu.:0.0000          1st Qu.:0.00   1st Qu.:1.000   Class :character    \n",
       " Median :0.0000          Median :0.80   Median :2.000   Mode  :character    \n",
       " Mean   :0.3267          Mean   :1.04   Mean   :1.601                       \n",
       " 3rd Qu.:1.0000          3rd Qu.:1.60   3rd Qu.:2.000                       \n",
       " Max.   :1.0000          Max.   :6.20   Max.   :3.000                       \n",
       " thalassemia          diagnosis     \n",
       " Length:303         Min.   :0.0000  \n",
       " Class :character   1st Qu.:0.0000  \n",
       " Mode  :character   Median :0.0000  \n",
       "                    Mean   :0.9373  \n",
       "                    3rd Qu.:2.0000  \n",
       "                    Max.   :4.0000  "
      ]
     },
     "metadata": {},
     "output_type": "display_data"
    }
   ],
   "source": [
    "summary(heart_disease) #summary"
   ]
  },
  {
   "cell_type": "markdown",
   "id": "1f11cf32-04d3-4da0-8281-28ff61a715da",
   "metadata": {},
   "source": [
    "We grouped the data by its diagnosis and graphed it in order for us to see if the dataset is balanced or not."
   ]
  },
  {
   "cell_type": "code",
   "execution_count": 14,
   "id": "af6c6e8c-283c-4e84-9324-7b772821b4a0",
   "metadata": {},
   "outputs": [
    {
     "data": {
      "text/html": [
       "<table class=\"dataframe\">\n",
       "<caption>A tibble: 2 × 3</caption>\n",
       "<thead>\n",
       "\t<tr><th scope=col>diagnosis</th><th scope=col>count</th><th scope=col>percentage</th></tr>\n",
       "\t<tr><th scope=col>&lt;fct&gt;</th><th scope=col>&lt;int&gt;</th><th scope=col>&lt;dbl&gt;</th></tr>\n",
       "</thead>\n",
       "<tbody>\n",
       "\t<tr><td>0</td><td>160</td><td>53.87205</td></tr>\n",
       "\t<tr><td>1</td><td>137</td><td>46.12795</td></tr>\n",
       "</tbody>\n",
       "</table>\n"
      ],
      "text/latex": [
       "A tibble: 2 × 3\n",
       "\\begin{tabular}{lll}\n",
       " diagnosis & count & percentage\\\\\n",
       " <fct> & <int> & <dbl>\\\\\n",
       "\\hline\n",
       "\t 0 & 160 & 53.87205\\\\\n",
       "\t 1 & 137 & 46.12795\\\\\n",
       "\\end{tabular}\n"
      ],
      "text/markdown": [
       "\n",
       "A tibble: 2 × 3\n",
       "\n",
       "| diagnosis &lt;fct&gt; | count &lt;int&gt; | percentage &lt;dbl&gt; |\n",
       "|---|---|---|\n",
       "| 0 | 160 | 53.87205 |\n",
       "| 1 | 137 | 46.12795 |\n",
       "\n"
      ],
      "text/plain": [
       "  diagnosis count percentage\n",
       "1 0         160   53.87205  \n",
       "2 1         137   46.12795  "
      ]
     },
     "metadata": {},
     "output_type": "display_data"
    }
   ],
   "source": [
    "num_obs <- nrow(heart_disease_clean)\n",
    "diagnosis_heart_disease <- group_by(heart_disease_clean, diagnosis) %>%\n",
    "                                summarize(count = n(),\n",
    "                                          percentage = n() / num_obs * 100)\n",
    "diagnosis_heart_disease\n"
   ]
  },
  {
   "cell_type": "markdown",
   "id": "e3ab0173-fd44-4263-adfa-e3a526b5fc67",
   "metadata": {},
   "source": [
    "As we can see the data looks fairly balanced. "
   ]
  },
  {
   "cell_type": "markdown",
   "id": "69f90fd1-253a-40a5-8704-d483f9710c97",
   "metadata": {},
   "source": [
    "Since this project should be in the scope of DSCI 100 and we did not learn how to use one hot encoding to deal with categorical variables, we will drop all the categorical variables from our dataset. "
   ]
  },
  {
   "cell_type": "code",
   "execution_count": 15,
   "id": "9e5d58b6-a192-4250-8f83-97c31c7aa10f",
   "metadata": {},
   "outputs": [
    {
     "name": "stdout",
     "output_type": "stream",
     "text": [
      "Rows: 297\n",
      "Columns: 7\n",
      "$ age                    \u001b[3m\u001b[90m<dbl>\u001b[39m\u001b[23m 63, 67, 67, 37, 41, 56, 62, 57, 63, 53, 57, 56,…\n",
      "$ resting_blood_pressure \u001b[3m\u001b[90m<dbl>\u001b[39m\u001b[23m 145, 160, 120, 130, 130, 120, 140, 120, 130, 14…\n",
      "$ serum_cholesterol      \u001b[3m\u001b[90m<dbl>\u001b[39m\u001b[23m 233, 286, 229, 250, 204, 236, 268, 354, 254, 20…\n",
      "$ max_heart_rate         \u001b[3m\u001b[90m<dbl>\u001b[39m\u001b[23m 150, 108, 129, 187, 172, 178, 160, 163, 147, 15…\n",
      "$ oldpeak                \u001b[3m\u001b[90m<dbl>\u001b[39m\u001b[23m 2.3, 1.5, 2.6, 3.5, 1.4, 0.8, 3.6, 0.6, 1.4, 3.…\n",
      "$ num_of_major_vessels   \u001b[3m\u001b[90m<dbl>\u001b[39m\u001b[23m 0, 3, 2, 0, 0, 0, 2, 0, 1, 0, 0, 0, 1, 0, 0, 0,…\n",
      "$ diagnosis              \u001b[3m\u001b[90m<fct>\u001b[39m\u001b[23m 0, 1, 1, 0, 0, 0, 1, 0, 1, 1, 0, 0, 1, 0, 0, 0,…\n"
     ]
    }
   ],
   "source": [
    "heart_disease_numerical <- heart_disease_clean[ -c(2:3, 6:7, 9, 11, 13)]\n",
    "\n",
    "glimpse(heart_disease_numerical)"
   ]
  },
  {
   "cell_type": "code",
   "execution_count": 16,
   "id": "4b85efaf-c270-43b8-b2f6-4ca6689692d0",
   "metadata": {},
   "outputs": [],
   "source": [
    "# heart_bar <- ggplot(diagnosis_heart_disease, \n",
    "#                     aes(x = diagnosis, \n",
    "#                         y = n,\n",
    "#                         fill = diagnosis)) +\n",
    "#                     geom_bar(stat = \"identity\") +\n",
    "#                     ggtitle(\"Number of diagnosis\") +\n",
    "#                     scale_fill_gradient(low = \"yellow\", high = \"red\", na.value = NA)\n",
    "\n",
    "# heart_bar"
   ]
  },
  {
   "cell_type": "markdown",
   "id": "f9295b32-5087-4205-9931-e5ca18e714e7",
   "metadata": {},
   "source": [
    "## Classification Analysis"
   ]
  },
  {
   "cell_type": "markdown",
   "id": "65eaa612-9788-4d14-b1e8-5b25004b8c3f",
   "metadata": {},
   "source": [
    "Now that we have done our exploratory analysis we can begin training our classification model.\n",
    "\n",
    "First we need to split our data. We do this so that after we create our model we can find the accuracy of our classifier."
   ]
  },
  {
   "cell_type": "code",
   "execution_count": 18,
   "id": "b5537929-7256-4899-926c-8dc76dee2588",
   "metadata": {},
   "outputs": [],
   "source": [
    "set.seed(321)\n",
    "\n",
    "heart_disease_split <- initial_split(heart_disease_numerical, prop = 0.75, strata = diagnosis)\n",
    "hd_train <- training(heart_disease_split)\n",
    "hd_test <- testing(heart_disease_split) "
   ]
  },
  {
   "cell_type": "markdown",
   "id": "857c207d-791d-4eb0-8229-8a9db2668e1c",
   "metadata": {},
   "source": [
    "Next we perform cross validation for our data. This is important because it allows us to get a more accurate idea of how our classifier is doing. If we did not use cross validation our classifier might be biased from an unbalanced validation set without us knowing. We are preprocess the data by creating a recipe. This step allows us to standardize our predictors so that any one predictor is not disproportionately affecting the classifier even if it has a larger number."
   ]
  },
  {
   "cell_type": "code",
   "execution_count": 20,
   "id": "9b7640ed-57d4-48de-93bc-91fbf5c5b47a",
   "metadata": {},
   "outputs": [],
   "source": [
    "set.seed(321)\n",
    "\n",
    "hd_vfold <- vfold_cv(hd_train, v = 5, strata = diagnosis)\n",
    "\n",
    "\n",
    "recipe <- recipe(diagnosis ~ ., data = hd_train) %>%\n",
    "    step_scale(all_predictors()) %>%\n",
    "    step_center(all_predictors())\n"
   ]
  },
  {
   "cell_type": "markdown",
   "id": "39e5c55d-052f-44f2-ad33-25e74233c16a",
   "metadata": {},
   "source": [
    "Next we create our classifier. The only parameter we can tune is the number of classifier we have. We are tuning our classifier to get the optimal number of neighbors as to increase accuracy."
   ]
  },
  {
   "cell_type": "code",
   "execution_count": 27,
   "id": "4293db1b-e608-4fd7-a376-ba3054bd1b49",
   "metadata": {},
   "outputs": [],
   "source": [
    "set.seed(321)\n",
    "\n",
    "knn_spec <- nearest_neighbor(weight_func = \"rectangular\", neighbors = tune()) %>%\n",
    "    set_engine(\"kknn\") %>%\n",
    "    set_mode(\"classification\")"
   ]
  },
  {
   "cell_type": "code",
   "execution_count": 28,
   "id": "72a5abf2-8e83-4bd7-8d42-071914637182",
   "metadata": {},
   "outputs": [],
   "source": [
    "set.seed(321)\n",
    "\n",
    "k_vals <- tibble(neighbors = seq(from = 1, to = 100, by = 5))\n",
    "\n",
    "knn_results <- workflow() %>%\n",
    "    add_recipe(recipe) %>%\n",
    "    add_model(knn_spec) %>%\n",
    "    tune_grid(resamples = hd_vfold, grid = k_vals) %>%\n",
    "    collect_metrics() \n",
    "\n",
    "accuracies <- knn_results %>%\n",
    "    filter(.metric == \"accuracy\")\n"
   ]
  },
  {
   "cell_type": "code",
   "execution_count": 29,
   "id": "f01d1875-d5b1-4c3b-a2c0-dd2215721a53",
   "metadata": {},
   "outputs": [
    {
     "data": {
      "image/png": "[encoded data removed]",
      "text/plain": [
       "plot without title"
      ]
     },
     "metadata": {
      "image/png": {
       "height": 420,
       "width": 420
      }
     },
     "output_type": "display_data"
    }
   ],
   "source": [
    "set.seed(321)\n",
    "\n",
    "accuracy_vs_k <- ggplot(accuracies, aes(x = neighbors, y = mean)) +\n",
    "    geom_point() +\n",
    "    geom_line() +\n",
    "    labs(x = \"Neighbors\", y = \"Accuracy Estimate\") + \n",
    "    theme(text = element_text(size = 12))\n",
    "\n",
    "accuracy_vs_k"
   ]
  },
  {
   "cell_type": "markdown",
   "id": "dff20b0c-8840-4e8d-883e-a7bf33b83093",
   "metadata": {},
   "source": [
    "From our graph above we can see that our accuracy peaks at around 12-13 neighbors. Therefore we will use that in our new classifier that we will use to predict."
   ]
  },
  {
   "cell_type": "code",
   "execution_count": 24,
   "id": "44a725df-afde-48cd-8577-266384df9e8a",
   "metadata": {},
   "outputs": [],
   "source": [
    "set.seed(321)\n",
    "\n",
    "knn_spec <- nearest_neighbor(weight_func = \"rectangular\", neighbors = 12) %>%\n",
    "    set_engine(\"kknn\") %>%\n",
    "    set_mode(\"classification\")"
   ]
  },
  {
   "cell_type": "code",
   "execution_count": 25,
   "id": "7fc9505d-c031-4d36-aba1-64b0ba1651f6",
   "metadata": {},
   "outputs": [],
   "source": [
    "set.seed(321)\n",
    "\n",
    "knn_fit <- workflow() %>%\n",
    "    add_recipe(recipe) %>%\n",
    "    add_model(knn_spec) %>%\n",
    "    fit(data = hd_train) %>%\n",
    "    fit_resamples(resamples = hd_vfold) %>%\n",
    "    collect_metrics()\n"
   ]
  },
  {
   "cell_type": "code",
   "execution_count": 26,
   "id": "d4600646-97bc-4791-8aa8-da516ba812e8",
   "metadata": {},
   "outputs": [
    {
     "ename": "ERROR",
     "evalue": "Error in UseMethod(\"predict\"): no applicable method for 'predict' applied to an object of class \"c('tbl_df', 'tbl', 'data.frame')\"\n",
     "output_type": "error",
     "traceback": [
      "Error in UseMethod(\"predict\"): no applicable method for 'predict' applied to an object of class \"c('tbl_df', 'tbl', 'data.frame')\"\nTraceback:\n",
      "1. predict(knn_fit, hd_test) %>% bind_cols(hd_test)",
      "2. bind_cols(., hd_test)",
      "3. list2(...)",
      "4. predict(knn_fit, hd_test)"
     ]
    }
   ],
   "source": [
    "set.seed(321)\n",
    "\n",
    "hd_predictions <- predict(knn_fit, hd_test)  %>%\n",
    "  bind_cols(hd_test)\n",
    "\n",
    "\n",
    "hd_predictions %>%\n",
    "    metrics(truth = diagnosis, estimate = .pred_class) %>%\n",
    "    filter(.metric == \"accuracy\")"
   ]
  },
  {
   "cell_type": "code",
   "execution_count": 24,
   "id": "a6765f34-26df-4e30-b5e6-9a9c9814f7f4",
   "metadata": {},
   "outputs": [
    {
     "ename": "ERROR",
     "evalue": "Error in conf_mat(., truth = diagnosis, estimate = .pred_class): object 'hd_predictions' not found\n",
     "output_type": "error",
     "traceback": [
      "Error in conf_mat(., truth = diagnosis, estimate = .pred_class): object 'hd_predictions' not found\nTraceback:\n",
      "1. hd_predictions %>% conf_mat(truth = diagnosis, estimate = .pred_class)",
      "2. conf_mat(., truth = diagnosis, estimate = .pred_class)"
     ]
    }
   ],
   "source": [
    "confusion_mat <- hd_predictions %>%\n",
    "             conf_mat(truth = diagnosis, estimate = .pred_class)\n",
    "\n",
    "confusion_mat"
   ]
  },
  {
   "cell_type": "code",
   "execution_count": null,
   "id": "4217ae00-8d0b-4d61-8555-76d8d1bc71e6",
   "metadata": {},
   "outputs": [],
   "source": []
  }
 ],
 "metadata": {
  "kernelspec": {
   "display_name": "R",
   "language": "R",
   "name": "ir"
  },
  "language_info": {
   "codemirror_mode": "r",
   "file_extension": ".r",
   "mimetype": "text/x-r-source",
   "name": "R",
   "pygments_lexer": "r",
   "version": "4.1.2"
  }
 },
 "nbformat": 4,
 "nbformat_minor": 5
}
