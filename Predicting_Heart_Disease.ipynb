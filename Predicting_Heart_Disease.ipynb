{
 "cells": [
  {
   "cell_type": "markdown",
   "id": "18baa1e7-6ab3-4ed2-9d9c-90a0c2178afd",
   "metadata": {},
   "source": [
    "# Predicting Heart Disease"
   ]
  },
  {
   "cell_type": "markdown",
   "id": "83989fc2-e326-43d2-a38d-18dede772286",
   "metadata": {},
   "source": [
    "## Summary"
   ]
  },
  {
   "cell_type": "markdown",
   "id": "ec6f77f2-ea27-4b1d-a82d-afef10e27f89",
   "metadata": {},
   "source": [
    "### Introduction"
   ]
  },
  {
   "cell_type": "markdown",
   "id": "254c1193-4fab-4e57-9ab1-f54e611032d0",
   "metadata": {},
   "source": [
    "Heart disease is an umbrella term that refers to several conditions that affect the health of one's heart. Common heart diseases include disease of the blood vessel, arrhythmia (irregular beating of the heart), disease of the heart valve and muscle, infection of the heart, and heart defects from birth (“Heart Disease.”). The symptoms of one’s  heart disease is very dependent on the type of disease they have, however many forms can be prevented with healthy lifestyle choices. Most heart diseases (with the exception of serious defects at birth) are only diagnosed after a heart attack, heart failure, or stroke (“Heart Disease.”).  Heart attacks, heart failure, and strokes are very traumatic events to go through and are oftentimes deadly (“Heart Disease and Stroke.”). Therefore it is very important that we are able to predict if an individual is at an increased risk of heart disease and try to get them preventable care. In this project we want to determine if we can predict if someone is at risk of a heart disease based on the following variables."
   ]
  },
  {
   "cell_type": "markdown",
   "id": "7ead25b3-6c6b-4e8d-bbef-7acdd1d3ee7b",
   "metadata": {},
   "source": [
    "We used data from UCI Machine Learning (https://archive-beta.ics.uci.edu/ml/datasets/heart+disease). The Cleveland Heart Disease dataset consists of 13 explanatory variables and 1 target class. The variables, variable type and a brief description of each variable are listed below."
   ]
  },
  {
   "cell_type": "markdown",
   "id": "300bb04b-6529-4227-9cc6-8715bd10bd71",
   "metadata": {},
   "source": [
    "| Variable | Variable Type | Description |\n",
    "| :-: | :-: | :-: |\n",
    "| Age | Quantitative | Age of patient in years |\n",
    "| Sex | Categorical | Sex of patient where 0 = female and 1 = male |\n",
    "| Chest Pain | Categorical | Type of chest pain the patient has where 1 = typical angina, 2 = atypical angina, 3 = non-anginal, 4 = asymptomatic |\n",
    "| Resting Blood Pressure | Quantitative | Resting blood pressure of the patient measured at admission to the hospital in mm Hg |\n",
    "| Serum Cholesterol | Quantitative | Serum Cholesterol is the total amount of cholesterol a patient has in their blood. It is measured in mg/dl |\n",
    "| Fasting Blood Sugar | Categorical | The blood sugar level of the patient after fasting where 0 if blood sugar is less than 120mg/dl and 1 otherwise |\n",
    "| Resting ECG | Categorical | The results of the patients resting electrocardiographic where 0 = normal results, 1 = S-T wave abnormality, 2 = left ventricular hypertrophy |\n",
    "| Max Heart Rate | Quantitative | The maximum heart rate that the patient had in bpm |\n",
    "| Exercise Induced Angina | Categorical | If the patient has exercised induced angina (chest pain caused by reduced blood flow) where 0 = no and 1 =yes |\n",
    "| Oldpeak | Quantitative | The ST depression (ECG measurement of the heart) a patient has induced by exercise relative to rest in mm\n",
    " |\n",
    "| Slope | Categorical | The slope of peak exercise ST segment of patient where 1 = upsloping, 2 = flat, 3 = downsloping |\n",
    "| Number of Major Blood Vessels | Quantitative | The number of major blood vessels |\n",
    "| Thalassemia | Categorical | Occurrence of thalassemia in the patient (blood disorder that causes patient to have reduced amounts of hemoglobin) where 3 = normal, 6 = fixed defect, and 7 = reversible defect |\n",
    "| Diagnosis | Categorical | Presence of heart disease in the patient from 0 to 4 where 0 indicates no presence of heart disease. This is the target column |\n"
   ]
  },
  {
   "cell_type": "markdown",
   "id": "0930bc23-5f65-4f25-8554-957197046d76",
   "metadata": {},
   "source": [
    "# Methods & Results"
   ]
  },
  {
   "cell_type": "markdown",
   "id": "c8e62114-653f-40e8-92ba-db8fb595b5bf",
   "metadata": {},
   "source": [
    "## Packages"
   ]
  },
  {
   "cell_type": "code",
   "execution_count": 6,
   "id": "8efe0078-3066-43c6-9ed9-d8cc96298da3",
   "metadata": {},
   "outputs": [],
   "source": [
    "library(tidyverse)"
   ]
  },
  {
   "cell_type": "markdown",
   "id": "d4fb15ea-17bd-4df9-818d-fa63004c32c2",
   "metadata": {},
   "source": [
    "Load heart disease data set\n",
    "https://archive-beta.ics.uci.edu/ml/datasets/heart+disease"
   ]
  },
  {
   "cell_type": "code",
   "execution_count": 9,
   "id": "6d045eca-f685-48fa-97bf-50af75d14906",
   "metadata": {},
   "outputs": [],
   "source": [
    "heart_disease <- read.csv(\"data/processed-cleveland.csv\", header = FALSE)"
   ]
  },
  {
   "cell_type": "markdown",
   "id": "416c8124-8706-4859-8cad-61d3f2adc9c4",
   "metadata": {},
   "source": [
    "Added column headers"
   ]
  },
  {
   "cell_type": "code",
   "execution_count": 10,
   "id": "d66cfffb-8739-45e0-8f43-3f089f5224f4",
   "metadata": {},
   "outputs": [],
   "source": [
    "colnames(heart_disease) <- c(\"age\",\n",
    "                             \"sex\",\n",
    "                             \"chest_pain\",\n",
    "                             \"resting_blood_pressure\",\n",
    "                             \"serum_cholesterol\",\n",
    "                             \"fasting_blood_sugar\",\n",
    "                             \"resting_ecg\",\n",
    "                             \"max_heart_rate\",\n",
    "                             \"exercise_induced_angina\",\n",
    "                             \"oldpeak\",\n",
    "                             \"slope\",\n",
    "                             \"num_of_major_vessels\",\n",
    "                             \"thalassemia\",\n",
    "                             \"diagnosis\")"
   ]
  },
  {
   "cell_type": "code",
   "execution_count": 11,
   "id": "12fe5a13-9ab9-4eb0-90f1-867bfff29fb8",
   "metadata": {},
   "outputs": [
    {
     "data": {
      "text/html": [
       "<table class=\"dataframe\">\n",
       "<caption>A data.frame: 10 × 14</caption>\n",
       "<thead>\n",
       "\t<tr><th></th><th scope=col>age</th><th scope=col>sex</th><th scope=col>chest_pain</th><th scope=col>resting_blood_pressure</th><th scope=col>serum_cholesterol</th><th scope=col>fasting_blood_sugar</th><th scope=col>resting_ecg</th><th scope=col>max_heart_rate</th><th scope=col>exercise_induced_angina</th><th scope=col>oldpeak</th><th scope=col>slope</th><th scope=col>num_of_major_vessels</th><th scope=col>thalassemia</th><th scope=col>diagnosis</th></tr>\n",
       "\t<tr><th></th><th scope=col>&lt;dbl&gt;</th><th scope=col>&lt;dbl&gt;</th><th scope=col>&lt;dbl&gt;</th><th scope=col>&lt;dbl&gt;</th><th scope=col>&lt;dbl&gt;</th><th scope=col>&lt;dbl&gt;</th><th scope=col>&lt;dbl&gt;</th><th scope=col>&lt;dbl&gt;</th><th scope=col>&lt;dbl&gt;</th><th scope=col>&lt;dbl&gt;</th><th scope=col>&lt;dbl&gt;</th><th scope=col>&lt;chr&gt;</th><th scope=col>&lt;chr&gt;</th><th scope=col>&lt;int&gt;</th></tr>\n",
       "</thead>\n",
       "<tbody>\n",
       "\t<tr><th scope=row>1</th><td>63</td><td>1</td><td>1</td><td>145</td><td>233</td><td>1</td><td>2</td><td>150</td><td>0</td><td>2.3</td><td>3</td><td>0.0</td><td>6.0</td><td>0</td></tr>\n",
       "\t<tr><th scope=row>2</th><td>67</td><td>1</td><td>4</td><td>160</td><td>286</td><td>0</td><td>2</td><td>108</td><td>1</td><td>1.5</td><td>2</td><td>3.0</td><td>3.0</td><td>2</td></tr>\n",
       "\t<tr><th scope=row>3</th><td>67</td><td>1</td><td>4</td><td>120</td><td>229</td><td>0</td><td>2</td><td>129</td><td>1</td><td>2.6</td><td>2</td><td>2.0</td><td>7.0</td><td>1</td></tr>\n",
       "\t<tr><th scope=row>4</th><td>37</td><td>1</td><td>3</td><td>130</td><td>250</td><td>0</td><td>0</td><td>187</td><td>0</td><td>3.5</td><td>3</td><td>0.0</td><td>3.0</td><td>0</td></tr>\n",
       "\t<tr><th scope=row>5</th><td>41</td><td>0</td><td>2</td><td>130</td><td>204</td><td>0</td><td>2</td><td>172</td><td>0</td><td>1.4</td><td>1</td><td>0.0</td><td>3.0</td><td>0</td></tr>\n",
       "\t<tr><th scope=row>6</th><td>56</td><td>1</td><td>2</td><td>120</td><td>236</td><td>0</td><td>0</td><td>178</td><td>0</td><td>0.8</td><td>1</td><td>0.0</td><td>3.0</td><td>0</td></tr>\n",
       "\t<tr><th scope=row>7</th><td>62</td><td>0</td><td>4</td><td>140</td><td>268</td><td>0</td><td>2</td><td>160</td><td>0</td><td>3.6</td><td>3</td><td>2.0</td><td>3.0</td><td>3</td></tr>\n",
       "\t<tr><th scope=row>8</th><td>57</td><td>0</td><td>4</td><td>120</td><td>354</td><td>0</td><td>0</td><td>163</td><td>1</td><td>0.6</td><td>1</td><td>0.0</td><td>3.0</td><td>0</td></tr>\n",
       "\t<tr><th scope=row>9</th><td>63</td><td>1</td><td>4</td><td>130</td><td>254</td><td>0</td><td>2</td><td>147</td><td>0</td><td>1.4</td><td>2</td><td>1.0</td><td>7.0</td><td>2</td></tr>\n",
       "\t<tr><th scope=row>10</th><td>53</td><td>1</td><td>4</td><td>140</td><td>203</td><td>1</td><td>2</td><td>155</td><td>1</td><td>3.1</td><td>3</td><td>0.0</td><td>7.0</td><td>1</td></tr>\n",
       "</tbody>\n",
       "</table>\n"
      ],
      "text/latex": [
       "A data.frame: 10 × 14\n",
       "\\begin{tabular}{r|llllllllllllll}\n",
       "  & age & sex & chest\\_pain & resting\\_blood\\_pressure & serum\\_cholesterol & fasting\\_blood\\_sugar & resting\\_ecg & max\\_heart\\_rate & exercise\\_induced\\_angina & oldpeak & slope & num\\_of\\_major\\_vessels & thalassemia & diagnosis\\\\\n",
       "  & <dbl> & <dbl> & <dbl> & <dbl> & <dbl> & <dbl> & <dbl> & <dbl> & <dbl> & <dbl> & <dbl> & <chr> & <chr> & <int>\\\\\n",
       "\\hline\n",
       "\t1 & 63 & 1 & 1 & 145 & 233 & 1 & 2 & 150 & 0 & 2.3 & 3 & 0.0 & 6.0 & 0\\\\\n",
       "\t2 & 67 & 1 & 4 & 160 & 286 & 0 & 2 & 108 & 1 & 1.5 & 2 & 3.0 & 3.0 & 2\\\\\n",
       "\t3 & 67 & 1 & 4 & 120 & 229 & 0 & 2 & 129 & 1 & 2.6 & 2 & 2.0 & 7.0 & 1\\\\\n",
       "\t4 & 37 & 1 & 3 & 130 & 250 & 0 & 0 & 187 & 0 & 3.5 & 3 & 0.0 & 3.0 & 0\\\\\n",
       "\t5 & 41 & 0 & 2 & 130 & 204 & 0 & 2 & 172 & 0 & 1.4 & 1 & 0.0 & 3.0 & 0\\\\\n",
       "\t6 & 56 & 1 & 2 & 120 & 236 & 0 & 0 & 178 & 0 & 0.8 & 1 & 0.0 & 3.0 & 0\\\\\n",
       "\t7 & 62 & 0 & 4 & 140 & 268 & 0 & 2 & 160 & 0 & 3.6 & 3 & 2.0 & 3.0 & 3\\\\\n",
       "\t8 & 57 & 0 & 4 & 120 & 354 & 0 & 0 & 163 & 1 & 0.6 & 1 & 0.0 & 3.0 & 0\\\\\n",
       "\t9 & 63 & 1 & 4 & 130 & 254 & 0 & 2 & 147 & 0 & 1.4 & 2 & 1.0 & 7.0 & 2\\\\\n",
       "\t10 & 53 & 1 & 4 & 140 & 203 & 1 & 2 & 155 & 1 & 3.1 & 3 & 0.0 & 7.0 & 1\\\\\n",
       "\\end{tabular}\n"
      ],
      "text/markdown": [
       "\n",
       "A data.frame: 10 × 14\n",
       "\n",
       "| <!--/--> | age &lt;dbl&gt; | sex &lt;dbl&gt; | chest_pain &lt;dbl&gt; | resting_blood_pressure &lt;dbl&gt; | serum_cholesterol &lt;dbl&gt; | fasting_blood_sugar &lt;dbl&gt; | resting_ecg &lt;dbl&gt; | max_heart_rate &lt;dbl&gt; | exercise_induced_angina &lt;dbl&gt; | oldpeak &lt;dbl&gt; | slope &lt;dbl&gt; | num_of_major_vessels &lt;chr&gt; | thalassemia &lt;chr&gt; | diagnosis &lt;int&gt; |\n",
       "|---|---|---|---|---|---|---|---|---|---|---|---|---|---|---|\n",
       "| 1 | 63 | 1 | 1 | 145 | 233 | 1 | 2 | 150 | 0 | 2.3 | 3 | 0.0 | 6.0 | 0 |\n",
       "| 2 | 67 | 1 | 4 | 160 | 286 | 0 | 2 | 108 | 1 | 1.5 | 2 | 3.0 | 3.0 | 2 |\n",
       "| 3 | 67 | 1 | 4 | 120 | 229 | 0 | 2 | 129 | 1 | 2.6 | 2 | 2.0 | 7.0 | 1 |\n",
       "| 4 | 37 | 1 | 3 | 130 | 250 | 0 | 0 | 187 | 0 | 3.5 | 3 | 0.0 | 3.0 | 0 |\n",
       "| 5 | 41 | 0 | 2 | 130 | 204 | 0 | 2 | 172 | 0 | 1.4 | 1 | 0.0 | 3.0 | 0 |\n",
       "| 6 | 56 | 1 | 2 | 120 | 236 | 0 | 0 | 178 | 0 | 0.8 | 1 | 0.0 | 3.0 | 0 |\n",
       "| 7 | 62 | 0 | 4 | 140 | 268 | 0 | 2 | 160 | 0 | 3.6 | 3 | 2.0 | 3.0 | 3 |\n",
       "| 8 | 57 | 0 | 4 | 120 | 354 | 0 | 0 | 163 | 1 | 0.6 | 1 | 0.0 | 3.0 | 0 |\n",
       "| 9 | 63 | 1 | 4 | 130 | 254 | 0 | 2 | 147 | 0 | 1.4 | 2 | 1.0 | 7.0 | 2 |\n",
       "| 10 | 53 | 1 | 4 | 140 | 203 | 1 | 2 | 155 | 1 | 3.1 | 3 | 0.0 | 7.0 | 1 |\n",
       "\n"
      ],
      "text/plain": [
       "   age sex chest_pain resting_blood_pressure serum_cholesterol\n",
       "1  63  1   1          145                    233              \n",
       "2  67  1   4          160                    286              \n",
       "3  67  1   4          120                    229              \n",
       "4  37  1   3          130                    250              \n",
       "5  41  0   2          130                    204              \n",
       "6  56  1   2          120                    236              \n",
       "7  62  0   4          140                    268              \n",
       "8  57  0   4          120                    354              \n",
       "9  63  1   4          130                    254              \n",
       "10 53  1   4          140                    203              \n",
       "   fasting_blood_sugar resting_ecg max_heart_rate exercise_induced_angina\n",
       "1  1                   2           150            0                      \n",
       "2  0                   2           108            1                      \n",
       "3  0                   2           129            1                      \n",
       "4  0                   0           187            0                      \n",
       "5  0                   2           172            0                      \n",
       "6  0                   0           178            0                      \n",
       "7  0                   2           160            0                      \n",
       "8  0                   0           163            1                      \n",
       "9  0                   2           147            0                      \n",
       "10 1                   2           155            1                      \n",
       "   oldpeak slope num_of_major_vessels thalassemia diagnosis\n",
       "1  2.3     3     0.0                  6.0         0        \n",
       "2  1.5     2     3.0                  3.0         2        \n",
       "3  2.6     2     2.0                  7.0         1        \n",
       "4  3.5     3     0.0                  3.0         0        \n",
       "5  1.4     1     0.0                  3.0         0        \n",
       "6  0.8     1     0.0                  3.0         0        \n",
       "7  3.6     3     2.0                  3.0         3        \n",
       "8  0.6     1     0.0                  3.0         0        \n",
       "9  1.4     2     1.0                  7.0         2        \n",
       "10 3.1     3     0.0                  7.0         1        "
      ]
     },
     "metadata": {},
     "output_type": "display_data"
    }
   ],
   "source": [
    "head(heart_disease, 10)"
   ]
  },
  {
   "cell_type": "markdown",
   "id": "cf0494e3-a330-4850-bc5c-b64e4b668241",
   "metadata": {},
   "source": [
    "## Exploring DataSet"
   ]
  },
  {
   "cell_type": "code",
   "execution_count": 12,
   "id": "ffb12604-3d81-44c8-a1cc-7537c8ed18ad",
   "metadata": {},
   "outputs": [
    {
     "name": "stdout",
     "output_type": "stream",
     "text": [
      "'data.frame':\t303 obs. of  14 variables:\n",
      " $ age                    : num  63 67 67 37 41 56 62 57 63 53 ...\n",
      " $ sex                    : num  1 1 1 1 0 1 0 0 1 1 ...\n",
      " $ chest_pain             : num  1 4 4 3 2 2 4 4 4 4 ...\n",
      " $ resting_blood_pressure : num  145 160 120 130 130 120 140 120 130 140 ...\n",
      " $ serum_cholesterol      : num  233 286 229 250 204 236 268 354 254 203 ...\n",
      " $ fasting_blood_sugar    : num  1 0 0 0 0 0 0 0 0 1 ...\n",
      " $ resting_ecg            : num  2 2 2 0 2 0 2 0 2 2 ...\n",
      " $ max_heart_rate         : num  150 108 129 187 172 178 160 163 147 155 ...\n",
      " $ exercise_induced_angina: num  0 1 1 0 0 0 0 1 0 1 ...\n",
      " $ oldpeak                : num  2.3 1.5 2.6 3.5 1.4 0.8 3.6 0.6 1.4 3.1 ...\n",
      " $ slope                  : num  3 2 2 3 1 1 3 1 2 3 ...\n",
      " $ num_of_major_vessels   : chr  \"0.0\" \"3.0\" \"2.0\" \"0.0\" ...\n",
      " $ thalassemia            : chr  \"6.0\" \"3.0\" \"7.0\" \"3.0\" ...\n",
      " $ diagnosis              : int  0 2 1 0 0 0 3 0 2 1 ...\n"
     ]
    }
   ],
   "source": [
    "str(heart_disease) #get structure of dataset"
   ]
  },
  {
   "cell_type": "code",
   "execution_count": 13,
   "id": "670cb67a-18df-454a-9222-f85271a815f4",
   "metadata": {},
   "outputs": [
    {
     "data": {
      "text/plain": [
       "      age             sex           chest_pain    resting_blood_pressure\n",
       " Min.   :29.00   Min.   :0.0000   Min.   :1.000   Min.   : 94.0         \n",
       " 1st Qu.:48.00   1st Qu.:0.0000   1st Qu.:3.000   1st Qu.:120.0         \n",
       " Median :56.00   Median :1.0000   Median :3.000   Median :130.0         \n",
       " Mean   :54.44   Mean   :0.6799   Mean   :3.158   Mean   :131.7         \n",
       " 3rd Qu.:61.00   3rd Qu.:1.0000   3rd Qu.:4.000   3rd Qu.:140.0         \n",
       " Max.   :77.00   Max.   :1.0000   Max.   :4.000   Max.   :200.0         \n",
       " serum_cholesterol fasting_blood_sugar  resting_ecg     max_heart_rate \n",
       " Min.   :126.0     Min.   :0.0000      Min.   :0.0000   Min.   : 71.0  \n",
       " 1st Qu.:211.0     1st Qu.:0.0000      1st Qu.:0.0000   1st Qu.:133.5  \n",
       " Median :241.0     Median :0.0000      Median :1.0000   Median :153.0  \n",
       " Mean   :246.7     Mean   :0.1485      Mean   :0.9901   Mean   :149.6  \n",
       " 3rd Qu.:275.0     3rd Qu.:0.0000      3rd Qu.:2.0000   3rd Qu.:166.0  \n",
       " Max.   :564.0     Max.   :1.0000      Max.   :2.0000   Max.   :202.0  \n",
       " exercise_induced_angina    oldpeak         slope       num_of_major_vessels\n",
       " Min.   :0.0000          Min.   :0.00   Min.   :1.000   Length:303          \n",
       " 1st Qu.:0.0000          1st Qu.:0.00   1st Qu.:1.000   Class :character    \n",
       " Median :0.0000          Median :0.80   Median :2.000   Mode  :character    \n",
       " Mean   :0.3267          Mean   :1.04   Mean   :1.601                       \n",
       " 3rd Qu.:1.0000          3rd Qu.:1.60   3rd Qu.:2.000                       \n",
       " Max.   :1.0000          Max.   :6.20   Max.   :3.000                       \n",
       " thalassemia          diagnosis     \n",
       " Length:303         Min.   :0.0000  \n",
       " Class :character   1st Qu.:0.0000  \n",
       " Mode  :character   Median :0.0000  \n",
       "                    Mean   :0.9373  \n",
       "                    3rd Qu.:2.0000  \n",
       "                    Max.   :4.0000  "
      ]
     },
     "metadata": {},
     "output_type": "display_data"
    }
   ],
   "source": [
    "summary(heart_disease) #summary"
   ]
  },
  {
   "cell_type": "markdown",
   "id": "1f11cf32-04d3-4da0-8281-28ff61a715da",
   "metadata": {},
   "source": [
    "We grouped the data by its diagnosis and graphed it in order for us to see if the dataset is balanced or not."
   ]
  },
  {
   "cell_type": "code",
   "execution_count": 14,
   "id": "af6c6e8c-283c-4e84-9324-7b772821b4a0",
   "metadata": {},
   "outputs": [
    {
     "data": {
      "text/html": [
       "<table class=\"dataframe\">\n",
       "<caption>A grouped_df: 5 × 2</caption>\n",
       "<thead>\n",
       "\t<tr><th scope=col>diagnosis</th><th scope=col>n</th></tr>\n",
       "\t<tr><th scope=col>&lt;int&gt;</th><th scope=col>&lt;int&gt;</th></tr>\n",
       "</thead>\n",
       "<tbody>\n",
       "\t<tr><td>0</td><td>164</td></tr>\n",
       "\t<tr><td>1</td><td> 55</td></tr>\n",
       "\t<tr><td>2</td><td> 36</td></tr>\n",
       "\t<tr><td>3</td><td> 35</td></tr>\n",
       "\t<tr><td>4</td><td> 13</td></tr>\n",
       "</tbody>\n",
       "</table>\n"
      ],
      "text/latex": [
       "A grouped\\_df: 5 × 2\n",
       "\\begin{tabular}{ll}\n",
       " diagnosis & n\\\\\n",
       " <int> & <int>\\\\\n",
       "\\hline\n",
       "\t 0 & 164\\\\\n",
       "\t 1 &  55\\\\\n",
       "\t 2 &  36\\\\\n",
       "\t 3 &  35\\\\\n",
       "\t 4 &  13\\\\\n",
       "\\end{tabular}\n"
      ],
      "text/markdown": [
       "\n",
       "A grouped_df: 5 × 2\n",
       "\n",
       "| diagnosis &lt;int&gt; | n &lt;int&gt; |\n",
       "|---|---|\n",
       "| 0 | 164 |\n",
       "| 1 |  55 |\n",
       "| 2 |  36 |\n",
       "| 3 |  35 |\n",
       "| 4 |  13 |\n",
       "\n"
      ],
      "text/plain": [
       "  diagnosis n  \n",
       "1 0         164\n",
       "2 1          55\n",
       "3 2          36\n",
       "4 3          35\n",
       "5 4          13"
      ]
     },
     "metadata": {},
     "output_type": "display_data"
    }
   ],
   "source": [
    "diagnosis_heart_disease <- group_by(heart_disease, diagnosis) %>%\n",
    "                                count()\n",
    "diagnosis_heart_disease"
   ]
  },
  {
   "cell_type": "markdown",
   "id": "e3ab0173-fd44-4263-adfa-e3a526b5fc67",
   "metadata": {},
   "source": [
    "As we can see the data seems pretty unbalanced, however we should note that 0 indicates the absence of heart disease and 1-4 indicates the presence of heart disease, so we will turn the diagnosis into binary 0 or 1 (absent or present). We will also perform data cleaning to deal with NA values"
   ]
  },
  {
   "cell_type": "code",
   "execution_count": null,
   "id": "e62d5920-9465-4aee-b1bb-f837e55e2ff1",
   "metadata": {},
   "outputs": [],
   "source": []
  },
  {
   "cell_type": "code",
   "execution_count": 15,
   "id": "4b85efaf-c270-43b8-b2f6-4ca6689692d0",
   "metadata": {},
   "outputs": [
    {
     "data": {
      "image/png": "[encoded data removed]",
      "text/plain": [
       "plot without title"
      ]
     },
     "metadata": {
      "image/png": {
       "height": 420,
       "width": 420
      }
     },
     "output_type": "display_data"
    }
   ],
   "source": [
    "heart_bar <- ggplot(diagnosis_heart_disease, \n",
    "                    aes(x = diagnosis, \n",
    "                        y = n,\n",
    "                        fill = diagnosis)) +\n",
    "                    geom_bar(stat = \"identity\") +\n",
    "                    ggtitle(\"Number of diagnosis\") +\n",
    "                    scale_fill_gradient(low = \"yellow\", high = \"red\", na.value = NA)\n",
    "\n",
    "heart_bar"
   ]
  },
  {
   "cell_type": "code",
   "execution_count": null,
   "id": "f92fedd9-eb73-4fed-9003-18e499c54d1c",
   "metadata": {},
   "outputs": [],
   "source": []
  }
 ],
 "metadata": {
  "kernelspec": {
   "display_name": "R",
   "language": "R",
   "name": "ir"
  },
  "language_info": {
   "codemirror_mode": "r",
   "file_extension": ".r",
   "mimetype": "text/x-r-source",
   "name": "R",
   "pygments_lexer": "r",
   "version": "4.1.2"
  }
 },
 "nbformat": 4,
 "nbformat_minor": 5
}
