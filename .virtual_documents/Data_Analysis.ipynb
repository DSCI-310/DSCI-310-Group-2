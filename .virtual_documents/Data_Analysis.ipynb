test <- read.csv("processed.cleavland.csv", header = false)



